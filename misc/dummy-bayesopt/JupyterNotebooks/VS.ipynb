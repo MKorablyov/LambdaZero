{
 "cells": [
  {
   "cell_type": "markdown",
   "metadata": {},
   "source": [
    "# Virtual Screening\n",
    "\n",
    "This notebook is for looking at the results from the Virtual Screening experiments"
   ]
  },
  {
   "cell_type": "code",
   "execution_count": 1,
   "metadata": {},
   "outputs": [],
   "source": [
    "import pickle\n",
    "from matplotlib import pyplot as plt\n",
    "import numpy as np\n",
    "import seaborn as sns\n",
    "\n",
    "import tabulate"
   ]
  },
  {
   "cell_type": "code",
   "execution_count": 2,
   "metadata": {},
   "outputs": [],
   "source": [
    "import sys\n",
    "sys.path.append('../')\n"
   ]
  },
  {
   "cell_type": "code",
   "execution_count": 3,
   "metadata": {},
   "outputs": [],
   "source": [
    "from bayes_vs import dummy_oracles\n",
    "from bayes_vs import acquisition\n",
    "from bayes_vs import querier\n"
   ]
  },
  {
   "cell_type": "code",
   "execution_count": 4,
   "metadata": {},
   "outputs": [],
   "source": [
    "with open('../scripts/vs_results.pick', 'rb') as fo:\n",
    "    data_ = pickle.load(fo)\n"
   ]
  },
  {
   "cell_type": "code",
   "execution_count": 5,
   "metadata": {},
   "outputs": [
    {
     "name": "stdout",
     "output_type": "stream",
     "text": [
      "[('oracles', ['gt', 'cheap-docking', 'expensive-docking', 'FEP']), ('experiments', ['PlainVS', 'BayesVS'])]\n",
      "\n",
      " dict_keys(['experiment_queriers', 'stages'])\n"
     ]
    }
   ],
   "source": [
    "print([(k, list(v.keys())) for k, v in data_.items()])\n",
    "\n",
    "print('\\n', data_['experiments']['PlainVS'].keys())"
   ]
  },
  {
   "cell_type": "code",
   "execution_count": 6,
   "metadata": {},
   "outputs": [
    {
     "data": {
      "text/plain": [
       "<matplotlib.axes._subplots.AxesSubplot at 0x1a27878a10>"
      ]
     },
     "execution_count": 6,
     "metadata": {},
     "output_type": "execute_result"
    },
    {
     "data": {
      "image/png": "[encoded data removed]",
      "text/plain": [
       "<Figure size 432x288 with 1 Axes>"
      ]
     },
     "metadata": {
      "needs_background": "light"
     },
     "output_type": "display_data"
    }
   ],
   "source": [
    "# We first will plot the KDE of all possible scores we can find.\n",
    "\n",
    "all_scores = np.array(list(data_['oracles']['gt']._properties.values()))\n",
    "sns.kdeplot(all_scores)"
   ]
  },
  {
   "cell_type": "code",
   "execution_count": 7,
   "metadata": {
    "scrolled": true
   },
   "outputs": [
    {
     "name": "stdout",
     "output_type": "stream",
     "text": [
      "Method          Top 1 Found    Top 2 Found    Top 3 found    Top 5 found    Top 10 found\n",
      "------------  -------------  -------------  -------------  -------------  --------------\n",
      "Full Dataset       -9.79673       -9.74911       -9.74911       -9.56339        -9.43006\n",
      "BayesVS            -9.6253        -9.45149       -9.44911       -8.9872         -8.62768\n",
      "PlainVS            -9.6253        -9.56339       -9.45149       -9.32768        -8.90863\n"
     ]
    }
   ],
   "source": [
    "# We can then list the best dound by BayesVS and PlainVS \n",
    "# When run on 13.May Plain VS is doing better but not particular suprising at this stage,\n",
    "# the Bayesian Regression model is not taking in that good features (ie the results of previous oracles)\n",
    "# or has sensible priors. At this stage this is just to demonstrate how the process can be evaluated.\n",
    "\n",
    "table = []\n",
    "\n",
    "bayes_opt_scores = [elem.score for elem in data_['experiments']['BayesVS']['experiment_queriers'][-1].queries]\n",
    "plain_vs_scores = [elem.score for elem in data_['experiments']['PlainVS']['experiment_queriers'][-1].queries]\n",
    "\n",
    "for res_name, res in [('Full Dataset', all_scores), ('BayesVS', bayes_opt_scores), ('PlainVS', plain_vs_scores)]:\n",
    "    indcs = [0, 1, 2, 4, 9]\n",
    "    table.append([res_name] + np.sort(res)[indcs].tolist())\n",
    "    \n",
    "print(tabulate.tabulate(table, headers=[\"Method\", \"Top 1 Found\", \"Top 2 Found\", \"Top 3 found\", \"Top 5 found\", \"Top 10 found\"]))"
   ]
  },
  {
   "cell_type": "code",
   "execution_count": null,
   "metadata": {},
   "outputs": [],
   "source": [
    "# TODO KDE plots of the different queries."
   ]
  }
 ],
 "metadata": {
  "kernelspec": {
   "display_name": "Python 3",
   "language": "python",
   "name": "python3"
  },
  "language_info": {
   "codemirror_mode": {
    "name": "ipython",
    "version": 3
   },
   "file_extension": ".py",
   "mimetype": "text/x-python",
   "name": "python",
   "nbconvert_exporter": "python",
   "pygments_lexer": "ipython3",
   "version": "3.7.7"
  }
 },
 "nbformat": 4,
 "nbformat_minor": 4
}
