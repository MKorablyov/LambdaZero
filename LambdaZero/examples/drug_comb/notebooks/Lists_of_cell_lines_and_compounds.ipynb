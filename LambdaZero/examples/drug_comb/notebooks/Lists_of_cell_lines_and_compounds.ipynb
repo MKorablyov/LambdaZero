{
 "cells": [
  {
   "cell_type": "markdown",
   "metadata": {},
   "source": [
    "# Lists of cell lines and compounds"
   ]
  },
  {
   "cell_type": "code",
   "execution_count": 1,
   "metadata": {},
   "outputs": [],
   "source": [
    "import pandas as pd\n",
    "from LambdaZero.examples.drug_comb.utils import get_project_root\n",
    "from LambdaZero.examples.drug_comb.datasets.drugcomb_data_score import DrugCombScoreNoPPI\n",
    "from LambdaZero.examples.drug_comb.datasets.drugcomb_score_l1000_data import DrugCombScoreL1000NoPPI\n",
    "import os"
   ]
  },
  {
   "cell_type": "code",
   "execution_count": 2,
   "metadata": {},
   "outputs": [],
   "source": [
    "def drugs_for_cell_line(ds, cl):\n",
    "    \"\"\"\n",
    "    List of most prevalent drugs for a given dataset and cell line\n",
    "    \"\"\"\n",
    "    drugs_row_for_cell_line = ds._score_data[ds._score_data['cell_line_name'] == cl]['drug_row']\n",
    "    drugs_col_for_cell_line = ds._score_data[ds._score_data['cell_line_name'] == cl]['drug_col']\n",
    "    drugs_both_for_cell_line = pd.concat((drugs_row_for_cell_line, drugs_col_for_cell_line))\n",
    "    \n",
    "    return drugs_both_for_cell_line.value_counts()"
   ]
  },
  {
   "cell_type": "markdown",
   "metadata": {},
   "source": [
    "## Load data"
   ]
  },
  {
   "cell_type": "markdown",
   "metadata": {},
   "source": [
    "**Note**: we will access the data through the dataset objects and not the raw files, as lots of examples are not used in practice (no drug CID for one of the drugs etc)"
   ]
  },
  {
   "cell_type": "code",
   "execution_count": 3,
   "metadata": {},
   "outputs": [
    {
     "name": "stdout",
     "output_type": "stream",
     "text": [
      "Dataset loaded.\n",
      "\t 273550 drug comb experiments among 2699 drugs\n",
      "\t fingeprints with radius 4 and nbits 1024\n",
      "\t 566781 drug target interactions\n",
      "\t 0 prot-prot interactions\n"
     ]
    }
   ],
   "source": [
    "dataset = DrugCombScoreNoPPI()"
   ]
  },
  {
   "cell_type": "markdown",
   "metadata": {},
   "source": [
    "We need to reprocess the dataset in order to get the score dataframe"
   ]
  },
  {
   "cell_type": "code",
   "execution_count": 4,
   "metadata": {},
   "outputs": [
    {
     "name": "stdout",
     "output_type": "stream",
     "text": [
      "Processing drug nodes..\n",
      "Processing protein nodes..\n",
      "Processing drug protein edges..\n",
      "Processing drug drug interaction edges..\n"
     ]
    }
   ],
   "source": [
    "dataset.process()"
   ]
  },
  {
   "cell_type": "markdown",
   "metadata": {},
   "source": [
    "## Load data with L1000"
   ]
  },
  {
   "cell_type": "code",
   "execution_count": 6,
   "metadata": {},
   "outputs": [
    {
     "name": "stdout",
     "output_type": "stream",
     "text": [
      "Dataset loaded.\n",
      "\t 3982 drug comb experiments among 1387 drugs\n",
      "\t fingeprints with radius 4 and nbits 1024\n",
      "\t 388058 drug target interactions\n",
      "\t 0 prot-prot interactions\n",
      "\t 3982 pairs of expression profiles\n"
     ]
    }
   ],
   "source": [
    "datasetl1000 = DrugCombScoreL1000NoPPI()"
   ]
  },
  {
   "cell_type": "code",
   "execution_count": 7,
   "metadata": {},
   "outputs": [
    {
     "name": "stdout",
     "output_type": "stream",
     "text": [
      "L1000 dataset loaded.\n",
      "Processing drug nodes..\n",
      "Processing protein nodes..\n",
      "Processing drug protein edges..\n",
      "Processing drug drug interaction edges\n"
     ]
    }
   ],
   "source": [
    "datasetl1000.process()"
   ]
  },
  {
   "cell_type": "markdown",
   "metadata": {},
   "source": [
    "## Ranked list of cell lines\n",
    "\n",
    "The cell lines are ranked according to the number of examples tested on each cell line in our dataset"
   ]
  },
  {
   "cell_type": "markdown",
   "metadata": {},
   "source": [
    "In DrugComb:"
   ]
  },
  {
   "cell_type": "code",
   "execution_count": 9,
   "metadata": {},
   "outputs": [
    {
     "data": {
      "text/plain": [
       "KBM-7          29889\n",
       "NCIH23          4533\n",
       "SW-620          4531\n",
       "HT29            4520\n",
       "HCT116          4509\n",
       "SK-OV-3         4479\n",
       "UACC62          4454\n",
       "NCI-H460        4451\n",
       "T-47D           4430\n",
       "OVCAR3          4379\n",
       "DIPG25          4370\n",
       "ACHN            2890\n",
       "OVCAR-5         2886\n",
       "SF-268          2884\n",
       "MCF7            2884\n",
       "NCI/ADR-RES     2883\n",
       "SN12C           2882\n",
       "HCT-15          2882\n",
       "SNB-19          2880\n",
       "UACC-257        2879\n",
       "Name: cell_line_name, dtype: int64"
      ]
     },
     "execution_count": 9,
     "metadata": {},
     "output_type": "execute_result"
    }
   ],
   "source": [
    "dataset._score_data['cell_line_name'].value_counts().head(n=20)"
   ]
  },
  {
   "cell_type": "markdown",
   "metadata": {},
   "source": [
    "In DrugComb-inter-L1000:"
   ]
  },
  {
   "cell_type": "code",
   "execution_count": 10,
   "metadata": {},
   "outputs": [
    {
     "data": {
      "text/plain": [
       "HT29     1334\n",
       "MCF7     1026\n",
       "A375      680\n",
       "A549      462\n",
       "VCAP      440\n",
       "LNCAP      40\n",
       "Name: cell_line_name, dtype: int64"
      ]
     },
     "execution_count": 10,
     "metadata": {},
     "output_type": "execute_result"
    }
   ],
   "source": [
    "datasetl1000._score_data['cell_line_name'].value_counts().head(n=20)"
   ]
  },
  {
   "cell_type": "code",
   "execution_count": 11,
   "metadata": {},
   "outputs": [
    {
     "name": "stdout",
     "output_type": "stream",
     "text": [
      "A375 1652\n",
      "HT29 4520\n",
      "LNCAP 1596\n",
      "VCAP 1596\n",
      "MCF7 2884\n",
      "A549 2855\n"
     ]
    }
   ],
   "source": [
    "# Check how many example we have in drugcomb for the 6 cell lines from drugcomb-inter-l1000\n",
    "for cell_line in datasetl1000._score_data['cell_line_name'].unique():\n",
    "    print(cell_line, dataset._score_data['cell_line_name'].value_counts()[cell_line])"
   ]
  },
  {
   "cell_type": "markdown",
   "metadata": {},
   "source": [
    "**Top**: list of most prevalent cell lines in the DrugComb dataset\n",
    "\n",
    "**Bottom**: list of most prevalent cell lines in the intersction between DrugComb and L1000\n",
    "\n",
    "**HT29** - **MCF7** - **A549** look like good candidates for drugcomb+l1000 but also for drugcomb alone\n",
    "\n",
    "**KBM-7** is by far the most frequent cell line in drugcomb (alone)\n",
    "\n",
    "**Note**: we might want to use DrugComb-inter-L1000 even if it's smaller, as we get a better fit on the data in practice. Also, we may better see the benefits of active learning when our model has not fitted perfectly the cell line."
   ]
  },
  {
   "cell_type": "markdown",
   "metadata": {},
   "source": [
    "## List of Compounds in DrugComb-inter-L1000"
   ]
  },
  {
   "cell_type": "markdown",
   "metadata": {},
   "source": [
    "For each cell line, plot the most frequent Drugs"
   ]
  },
  {
   "cell_type": "code",
   "execution_count": 12,
   "metadata": {},
   "outputs": [
    {
     "data": {
      "text/plain": [
       "DASATINIB            111\n",
       "SUNITINIB            111\n",
       "LAPATINIB            111\n",
       "ZOLINZA              108\n",
       "SORAFENIB            107\n",
       "TEMOZOLOMIDE         107\n",
       "BORTEZOMIB           104\n",
       "5-FU                  97\n",
       "SN-38                 96\n",
       "MK-2206               84\n",
       "AZD1775               80\n",
       "BEZ-235               76\n",
       "ERLOTINIB             76\n",
       "MK-5108               72\n",
       "ABT-888               72\n",
       "PD325901              72\n",
       "DINACICLIB            72\n",
       "DOXORUBICIN           60\n",
       "METFORMIN             60\n",
       "VEMURAFENIB           48\n",
       "CRIZOTINIB            47\n",
       "RALOXIFENE            40\n",
       "ANASTROZOLE           39\n",
       "VANDETANIB            39\n",
       "VISMODEGIB            39\n",
       "LENALIDOMIDE          37\n",
       "MITOXANTRONE          37\n",
       "GEFITINIB             37\n",
       "CHLORAMBUCIL          37\n",
       "MEGESTROL ACETATE     37\n",
       "ALTRETAMINE           37\n",
       "THIOGUANINE           37\n",
       "ROMIDEPSIN            36\n",
       "NILOTINIB             36\n",
       "MERCAPTOPURINE        35\n",
       "IMATINIB              35\n",
       "LETROZOLE             35\n",
       "IMIQUIMOD             35\n",
       "IFOSFAMIDE            34\n",
       "IXABEPILONE           34\n",
       "METHOXSALEN           34\n",
       "HYDROXYUREA           34\n",
       "THALIDOMIDE           34\n",
       "CELECOXIB             34\n",
       "BUSULFAN              33\n",
       "PRALATREXATE          32\n",
       "dtype: int64"
      ]
     },
     "execution_count": 12,
     "metadata": {},
     "output_type": "execute_result"
    }
   ],
   "source": [
    "drugs_for_cell_line(datasetl1000, 'HT29')"
   ]
  },
  {
   "cell_type": "code",
   "execution_count": 13,
   "metadata": {},
   "outputs": [
    {
     "data": {
      "text/plain": [
       "VEMURAFENIB                 60\n",
       "CRIZOTINIB                  59\n",
       "RALOXIFENE                  50\n",
       "VANDETANIB                  49\n",
       "AXITINIB                    49\n",
       "VISMODEGIB                  49\n",
       "ANASTROZOLE                 47\n",
       "MEGESTROL ACETATE           46\n",
       "5-FU                        46\n",
       "EXEMESTANE                  46\n",
       "MITOXANTRONE                46\n",
       "GEFITINIB                   46\n",
       "THIOGUANINE                 46\n",
       "DEXRAZOXANE                 46\n",
       "LENALIDOMIDE                46\n",
       "ALTRETAMINE                 46\n",
       "CHLORAMBUCIL                46\n",
       "NILOTINIB                   46\n",
       "ZOLINZA                     45\n",
       "SN-38                       45\n",
       "MITOTANE                    45\n",
       "IFOSFAMIDE                  44\n",
       "TRETINOIN                   44\n",
       "IMATINIB                    44\n",
       "IMIQUIMOD                   44\n",
       "THALIDOMIDE                 44\n",
       "BORTEZOMIB                  44\n",
       "DASATINIB                   44\n",
       "CELECOXIB                   44\n",
       "METHOXSALEN                 44\n",
       "THIOTEPA                    44\n",
       "HYDROXYUREA                 44\n",
       "SUNITINIB                   44\n",
       "AMIFOSTINE                  44\n",
       "LAPATINIB                   44\n",
       "PRALATREXATE                44\n",
       "SORAFENIB                   44\n",
       "5-FLUORO-2'-DEOXYURIDINE    44\n",
       "MERCAPTOPURINE              44\n",
       "TEMOZOLOMIDE                43\n",
       "METHOTREXATE                43\n",
       "BUSULFAN                    43\n",
       "LETROZOLE                   43\n",
       "IXABEPILONE                 42\n",
       "CYCLOPHOSPHAMIDE            42\n",
       "dtype: int64"
      ]
     },
     "execution_count": 13,
     "metadata": {},
     "output_type": "execute_result"
    }
   ],
   "source": [
    "drugs_for_cell_line(datasetl1000, 'MCF7')"
   ]
  },
  {
   "cell_type": "code",
   "execution_count": 14,
   "metadata": {},
   "outputs": [
    {
     "data": {
      "text/plain": [
       "VEMURAFENIB          41\n",
       "CRIZOTINIB           40\n",
       "RALOXIFENE           34\n",
       "VANDETANIB           33\n",
       "AXITINIB             33\n",
       "NILOTINIB            31\n",
       "MITOXANTRONE         31\n",
       "ALTRETAMINE          31\n",
       "CHLORAMBUCIL         31\n",
       "MEGESTROL ACETATE    31\n",
       "GEFITINIB            31\n",
       "EXEMESTANE           31\n",
       "DEXRAZOXANE          31\n",
       "ZOLINZA              30\n",
       "ANASTROZOLE          30\n",
       "MITOTANE             30\n",
       "SUNITINIB            29\n",
       "LETROZOLE            29\n",
       "THALIDOMIDE          29\n",
       "IMATINIB             29\n",
       "TRETINOIN            29\n",
       "LAPATINIB            29\n",
       "IMIQUIMOD            29\n",
       "SORAFENIB            29\n",
       "DASATINIB            29\n",
       "METHOXSALEN          29\n",
       "TEMOZOLOMIDE         29\n",
       "THIOTEPA             29\n",
       "CELECOXIB            29\n",
       "METHOTREXATE         28\n",
       "dtype: int64"
      ]
     },
     "execution_count": 14,
     "metadata": {},
     "output_type": "execute_result"
    }
   ],
   "source": [
    "drugs_for_cell_line(datasetl1000, 'A549')"
   ]
  },
  {
   "cell_type": "markdown",
   "metadata": {},
   "source": [
    "Let us check how many drugs are tested on all the three main cell lines:"
   ]
  },
  {
   "cell_type": "code",
   "execution_count": 15,
   "metadata": {},
   "outputs": [
    {
     "name": "stdout",
     "output_type": "stream",
     "text": [
      "{'CELECOXIB', 'LETROZOLE', 'CRIZOTINIB', 'VEMURAFENIB', 'SUNITINIB', 'MITOXANTRONE', 'NILOTINIB', 'GEFITINIB', 'RALOXIFENE', 'ANASTROZOLE', 'ZOLINZA', 'THALIDOMIDE', 'MEGESTROL ACETATE', 'LAPATINIB', 'IMIQUIMOD', 'IMATINIB', 'DASATINIB', 'VANDETANIB', 'METHOXSALEN', 'CHLORAMBUCIL', 'SORAFENIB', 'ALTRETAMINE', 'TEMOZOLOMIDE'}\n",
      "23\n"
     ]
    }
   ],
   "source": [
    "all_drugs = None\n",
    "for cell_line in ['HT29', 'MCF7', 'A549']:\n",
    "    \n",
    "    if all_drugs is None:\n",
    "        all_drugs = set(drugs_for_cell_line(datasetl1000, cell_line).index)\n",
    "    \n",
    "    else:\n",
    "         all_drugs =  all_drugs.intersection(drugs_for_cell_line(datasetl1000, cell_line).index)\n",
    "            \n",
    "print(all_drugs)\n",
    "print(len(all_drugs))"
   ]
  },
  {
   "cell_type": "markdown",
   "metadata": {},
   "source": [
    "## List of Compounds in DrugComb alone"
   ]
  },
  {
   "cell_type": "code",
   "execution_count": 22,
   "metadata": {},
   "outputs": [
    {
     "data": {
      "text/plain": [
       "DASATINIB            203\n",
       "TEMOZOLOMIDE         202\n",
       "LAPATINIB            199\n",
       "SUNITINIB            199\n",
       "ZOLINZA              196\n",
       "SORAFENIB            192\n",
       "BORTEZOMIB           187\n",
       "SN-38                157\n",
       "5-FU                 157\n",
       "MITOMYCINE           155\n",
       "CYCLOPHOSPHAMIDE     151\n",
       "METHOTREXATE         148\n",
       "PACLITAXEL           146\n",
       "MK-8776              144\n",
       "ADM HYDROCHLORIDE    140\n",
       "MK-2206              136\n",
       "MK-4827              132\n",
       "AZD1775              132\n",
       "BEZ-235              124\n",
       "ERLOTINIB            124\n",
       "MK-8669              124\n",
       "MK-5108              120\n",
       "GELDANAMYCIN         120\n",
       "PD325901             120\n",
       "ABT-888              120\n",
       "DINACICLIB           120\n",
       "CRIZOTINIB            95\n",
       "VEMURAFENIB           93\n",
       "RALOXIFENE            83\n",
       "ABIRATERONE           80\n",
       "VISMODEGIB            80\n",
       "VANDETANIB            80\n",
       "AXITINIB              80\n",
       "ANASTROZOLE           80\n",
       "CABAZITAXEL           78\n",
       "AZACYTIDINE           78\n",
       "NILOTINIB             78\n",
       "CHLORAMBUCIL          77\n",
       "URACIL MUSTARD        77\n",
       "EXEMESTANE            77\n",
       "dtype: int64"
      ]
     },
     "execution_count": 22,
     "metadata": {},
     "output_type": "execute_result"
    }
   ],
   "source": [
    "drugs_for_cell_line(dataset, 'HT29').head(40)"
   ]
  },
  {
   "cell_type": "code",
   "execution_count": 23,
   "metadata": {},
   "outputs": [
    {
     "data": {
      "text/plain": [
       "ADM HYDROCHLORIDE      140\n",
       "CRIZOTINIB              95\n",
       "VEMURAFENIB             94\n",
       "RALOXIFENE              83\n",
       "AXITINIB                80\n",
       "CABAZITAXEL             80\n",
       "ABIRATERONE             80\n",
       "VISMODEGIB              80\n",
       "VANDETANIB              80\n",
       "ANASTROZOLE             79\n",
       "VINBLASTINE SULFATE     78\n",
       "AZACYTIDINE             78\n",
       "ROMIDEPSIN              78\n",
       "SN-38                   78\n",
       "GEFITINIB               77\n",
       "ALTRETAMINE             77\n",
       "ZOLINZA                 77\n",
       "LENALIDOMIDE            77\n",
       "NILOTINIB               77\n",
       "LOMUSTINE               77\n",
       "THIOGUANINE             77\n",
       "MEGESTROL ACETATE       77\n",
       "CHLORAMBUCIL            77\n",
       "TENIPOSIDE              77\n",
       "MITOXANTRONE            77\n",
       "EXEMESTANE              77\n",
       "DEXRAZOXANE             77\n",
       "URACIL MUSTARD          77\n",
       "5-FU                    77\n",
       "PEMETREXED              77\n",
       "DACARBAZINE             76\n",
       "ANTIBIOTIC AD 32        76\n",
       "MITOMYCINE              75\n",
       "TRETINOIN               75\n",
       "DASATINIB               75\n",
       "THIOTEPA                75\n",
       "THALIDOMIDE             75\n",
       "CHEMBL17639             75\n",
       "ARSENIC TRIOXIDE        75\n",
       "MERCAPTOPURINE          75\n",
       "dtype: int64"
      ]
     },
     "execution_count": 23,
     "metadata": {},
     "output_type": "execute_result"
    }
   ],
   "source": [
    "drugs_for_cell_line(dataset, 'MCF7').head(40)"
   ]
  },
  {
   "cell_type": "code",
   "execution_count": 24,
   "metadata": {},
   "outputs": [
    {
     "data": {
      "text/plain": [
       "ADM HYDROCHLORIDE          135\n",
       "CRIZOTINIB                  95\n",
       "VEMURAFENIB                 94\n",
       "RALOXIFENE                  83\n",
       "ABIRATERONE                 80\n",
       "AXITINIB                    80\n",
       "VANDETANIB                  80\n",
       "VISMODEGIB                  79\n",
       "CABAZITAXEL                 78\n",
       "ANASTROZOLE                 78\n",
       "VINBLASTINE SULFATE         78\n",
       "MEGESTROL ACETATE           77\n",
       "LENALIDOMIDE                77\n",
       "THIOGUANINE                 77\n",
       "DEXRAZOXANE                 77\n",
       "DACARBAZINE                 77\n",
       "ALTRETAMINE                 77\n",
       "GEFITINIB                   77\n",
       "ZOLINZA                     77\n",
       "CHLORAMBUCIL                77\n",
       "5-FU                        77\n",
       "MITOXANTRONE                77\n",
       "SN-38                       77\n",
       "EXEMESTANE                  77\n",
       "URACIL MUSTARD              77\n",
       "LOMUSTINE                   77\n",
       "TENIPOSIDE                  77\n",
       "PEMETREXED                  77\n",
       "AZACYTIDINE                 76\n",
       "NILOTINIB                   76\n",
       "ROMIDEPSIN                  76\n",
       "FULVESTRANT                 75\n",
       "BLEOMYCIN                   75\n",
       "NSC-127716                  75\n",
       "CYCLOPHOSPHAMIDE            75\n",
       "THALIDOMIDE                 75\n",
       "ALLOPURINOL                 75\n",
       "TOPOTECAN HYDROCHLORIDE     75\n",
       "LETROZOLE                   75\n",
       "AMIFOSTINE                  75\n",
       "dtype: int64"
      ]
     },
     "execution_count": 24,
     "metadata": {},
     "output_type": "execute_result"
    }
   ],
   "source": [
    "drugs_for_cell_line(dataset, 'A549').head(40)"
   ]
  },
  {
   "cell_type": "code",
   "execution_count": 25,
   "metadata": {},
   "outputs": [
    {
     "data": {
      "text/plain": [
       "CLOFARABINE                      486\n",
       "DESOXYCORTICOSTERONE PIVALATE    245\n",
       "5-FU                             244\n",
       "ZALEPLON                         244\n",
       "FLUMAZENIL                       244\n",
       "IMATINIB                         244\n",
       "MIGLITOL                         244\n",
       "ABACAVIR                         244\n",
       "PARGYLINE                        244\n",
       "ILOPROST                         244\n",
       "SPIRONOLACTONE                   244\n",
       "FELBAMATE                        244\n",
       "DIGITOXIN                        244\n",
       "ULIPRISTAL ACETATE               244\n",
       "BOSENTAN                         244\n",
       "VINBLASTINE                      244\n",
       "METHYLERGONOVINE                 244\n",
       "AZACITIDINE                      244\n",
       "SULFAMETER                       244\n",
       "PHENPROCOUMON                    244\n",
       "OXYPHENBUTAZONE                  244\n",
       "BUSPIRONE                        244\n",
       "MERCAPTOPURINE                   244\n",
       "DRONEDARONE                      244\n",
       "PROBUCOL                         244\n",
       "LUBIPROSTONE                     244\n",
       "TETRABENAZINE                    244\n",
       "ENDOXIFEN                        244\n",
       "ACAMPROSATE                      244\n",
       "DIHYDROARTEMISININ               244\n",
       "DEXTROMETHORPHAN                 244\n",
       "SUNITINIB                        244\n",
       "MITOTANE                         244\n",
       "SITAGLIPTIN                      244\n",
       "ZAFIRLUKAST                      244\n",
       "MEPHENYTOIN                      244\n",
       "ACARBOSE                         244\n",
       "PREDNISOLONE                     244\n",
       "TRIHEXYPHENIDYL                  244\n",
       "6-HYDROXYBUSPIRONE               244\n",
       "dtype: int64"
      ]
     },
     "execution_count": 25,
     "metadata": {},
     "output_type": "execute_result"
    }
   ],
   "source": [
    "drugs_for_cell_line(dataset, 'KBM-7').head(40)"
   ]
  },
  {
   "cell_type": "markdown",
   "metadata": {},
   "source": [
    "Let us check how many drugs are tested on all the four main cell lines:"
   ]
  },
  {
   "cell_type": "code",
   "execution_count": 20,
   "metadata": {},
   "outputs": [
    {
     "name": "stdout",
     "output_type": "stream",
     "text": [
      "{'CARMUSTINE', '5-FU', 'SUNITINIB', 'BORTEZOMIB', 'MITOXANTRONE', 'GEFITINIB', 'ANASTROZOLE', 'BUSULFAN', 'ZOLINZA', 'THALIDOMIDE', 'IMATINIB', 'ALLOPURINOL', 'HYDROXYUREA', 'METHOTREXATE', 'SN-38', 'CHLORAMBUCIL', 'ALTRETAMINE', 'SORAFENIB', 'TEMOZOLOMIDE', 'THIOTEPA', 'MERCAPTOPURINE', 'MITOTANE'}\n",
      "22\n"
     ]
    }
   ],
   "source": [
    "all_drugs = None\n",
    "for cell_line in ['HT29', 'MCF7', 'A549', 'KBM-7']:\n",
    "    \n",
    "    if all_drugs is None:\n",
    "        all_drugs = set(drugs_for_cell_line(dataset, cell_line).index)\n",
    "    \n",
    "    else:\n",
    "         all_drugs =  all_drugs.intersection(drugs_for_cell_line(dataset, cell_line).index)\n",
    "            \n",
    "print(all_drugs)\n",
    "print(len(all_drugs))"
   ]
  }
 ],
 "metadata": {
  "kernelspec": {
   "display_name": "Python 3",
   "language": "python",
   "name": "python3"
  },
  "language_info": {
   "codemirror_mode": {
    "name": "ipython",
    "version": 3
   },
   "file_extension": ".py",
   "mimetype": "text/x-python",
   "name": "python",
   "nbconvert_exporter": "python",
   "pygments_lexer": "ipython3",
   "version": "3.7.7"
  }
 },
 "nbformat": 4,
 "nbformat_minor": 4
}
