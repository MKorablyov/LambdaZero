{
 "cells": [
  {
   "cell_type": "code",
   "execution_count": 1,
   "metadata": {},
   "outputs": [
    {
     "name": "stderr",
     "output_type": "stream",
     "text": [
      "/Users/jarridr/opt/anaconda3/envs/my-rdkit-env/lib/python3.7/site-packages/IPython/core/interactiveshell.py:3146: DtypeWarning: Columns (2,5) have mixed types.Specify dtype option on import or set low_memory=False.\n",
      "  interactivity=interactivity, compiler=compiler, result=result)\n",
      "/Users/jarridr/opt/anaconda3/envs/my-rdkit-env/lib/python3.7/site-packages/IPython/core/interactiveshell.py:3146: DtypeWarning: Columns (5,7,11) have mixed types.Specify dtype option on import or set low_memory=False.\n",
      "  interactivity=interactivity, compiler=compiler, result=result)\n"
     ]
    }
   ],
   "source": [
    "import seaborn as sns\n",
    "import pandas as pd\n",
    "\n",
    "summ = pd.read_csv('summary_table_v1.4.csv')\n",
    "raw = pd.read_csv('drugcomb_data_v1.4.csv')\n",
    "\n",
    "block_to_study = raw[['block_id', 'study_name']].drop_duplicates()\n",
    "summ = summ.merge(block_to_study, on='block_id')\n",
    "\n",
    "mono = summ[summ['drug_col'].isna()]\n",
    "comb = summ[~summ['drug_col'].isna()]\n",
    "\n",
    "alm_summ = summ[summ['study_name'] == 'ALMANAC']"
   ]
  },
  {
   "cell_type": "code",
   "execution_count": 78,
   "metadata": {},
   "outputs": [],
   "source": [
    "import math\n",
    "import itertools\n",
    "import numpy as np\n",
    "\n",
    "num_bins = 70\n",
    "\n",
    "def get_bins(df, num_bins, synergy_col):\n",
    "    zip_synergies = df[synergy_col]\n",
    "    min_val = math.floor(zip_synergies.min())\n",
    "    max_val = math.ceil(zip_synergies.max())\n",
    "\n",
    "    diff = max_val - min_val\n",
    "    \n",
    "    base_num_per_bucket, remainder = divmod(diff, num_bins)\n",
    "    idxs_with_extra = np.random.choice(np.arange(num_bins), remainder, replace=False)\n",
    "    \n",
    "    tpls = []\n",
    "    curr = min_val\n",
    "    for i in range(num_bins):\n",
    "        bucket_range = base_num_per_bucket\n",
    "        if np.isin(i, idxs_with_extra).item():\n",
    "            bucket_range += 1\n",
    "            \n",
    "        tpls.append((curr, curr + bucket_range))\n",
    "        curr = curr + bucket_range\n",
    "        \n",
    "    interv_idx = pd.IntervalIndex.from_tuples(tpls)\n",
    "    return pd.cut(df[synergy_col], interv_idx, include_lowest=True)\n",
    "        \n",
    "def get_triplet_df(df):\n",
    "    copy = df.copy()\n",
    "    swap_cols(copy, 'drug_row', 'drug_col')\n",
    "    \n",
    "    merged_dfs = [merge(df, copy, merge_on=col_name) for col_name in ['drug_row']]#, 'drug_col']]\n",
    "    all_df = merged_dfs[0]\n",
    "    if len(merged_dfs) == 2:\n",
    "        all_df = all_df.append(merged_dfs[1])\n",
    "    \n",
    "    all_df['comb_name'] = all_df[['drug1', 'drug2', 'drug3']].apply(lambda x: '|'.join(sorted(x)), axis=1)\n",
    "    all_df['comb_name'] = all_df[['comb_name', 'cell_line_name']].apply(lambda x: '|'.join(x), axis=1)\n",
    "    \n",
    "    all_df = all_df.drop_duplicates(subset='comb_name')\n",
    "    return all_df\n",
    "\n",
    "def merge(df1, df2, merge_on='drug_col'):\n",
    "    cols = ['drug_row', 'drug_col', 'cell_line_name']\n",
    "\n",
    "    merged = df1.merge(df2, how='inner', on=[merge_on, 'cell_line_name'])\n",
    "    \n",
    "    col_to_fix = 'drug_row' if merge_on == 'drug_col' else 'drug_col'\n",
    "    cols = {merge_on: 'drug1', '%s_x' % col_to_fix: 'drug2', '%s_y' % col_to_fix: 'drug3'}\n",
    "    return merged.rename(columns=cols)\n",
    "\n",
    "def swap_cols(df, first_col_name, second_col_name):\n",
    "    tmp = df[first_col_name].copy()\n",
    "    df[first_col_name] = df[second_col_name]\n",
    "    df[second_col_name] = tmp\n",
    "    \n",
    "def _get_selections_inner(df, num_selections):\n",
    "    '''\n",
    "    The procedure calls for us to take an even number of samples from\n",
    "    each bucket.  However, this may not be possible, specifically in the\n",
    "    case that some bucket does not have the requisite number of items in it.\n",
    "    \n",
    "    In this case, we will resample the remaining required samples from the \n",
    "    buckets leftover.  This method does one iteration of the bucket sampling,\n",
    "    and will be called as many times as needed for when buckets do not have\n",
    "    enough items in them.\n",
    "    '''\n",
    "    result_samples = []\n",
    "    num_leftover = 0\n",
    "    \n",
    "    bins = list(sorted(df['bins'].unique(), reverse=True))\n",
    "    \n",
    "    base_items_per_bucket, remainder = divmod(num_selections, len(bins))\n",
    "    idxs_with_extra = np.random.choice(np.arange(len(bins)), remainder, replace=False)\n",
    "    \n",
    "    for i, bin_ in enumerate(bins):\n",
    "        num_samples_this_bin = base_items_per_bucket\n",
    "        if np.isin(i, idxs_with_extra).item():\n",
    "            num_samples_this_bin += 1\n",
    "            \n",
    "        matches = df[df['bins'] == bin_]\n",
    "        \n",
    "        sample = None\n",
    "        if matches.shape[0] < num_samples_this_bin:\n",
    "            sample = matches\n",
    "            num_leftover += num_samples_this_bin - matches.shape[0]\n",
    "        else:\n",
    "            sample = matches.sample(n=num_samples_this_bin)\n",
    "            \n",
    "        result_samples.append(sample)\n",
    "        \n",
    "    return pd.concat(result_samples), num_leftover\n",
    "\n",
    "def get_selections(df, num_selections):\n",
    "    # Copy df so we can make deletions\n",
    "    copy_df = df.copy()\n",
    "    selections = pd.DataFrame(columns=copy_df.columns)\n",
    "    \n",
    "    while num_selections:\n",
    "        samples, num_leftover = _get_selections_inner(copy_df, num_selections)\n",
    "        \n",
    "        # Delete rows from copy_df that we just selected\n",
    "        copy_df = pd.concat((copy_df, samples)).drop_duplicates(keep=False)\n",
    "        num_selections = num_leftover\n",
    "        selections = selections.append(samples)\n",
    "        \n",
    "    return selections\n",
    "        \n",
    "def add_cid(df):\n",
    "    ret_df = df.copy()\n",
    "    \n",
    "    tpls = []\n",
    "    for v in ['row', 'col']:\n",
    "        drug_name = 'drug_%s' % v\n",
    "        cid_name  = 'drug_%s_cid' % v\n",
    "        \n",
    "        intermed_df = raw[[drug_name, cid_name]]\n",
    "        intermed_df = intermed_df.rename(columns={drug_name: 'drug', cid_name: 'cid'})\n",
    "        tpls.append(intermed_df)\n",
    "        \n",
    "    drug_cid_df = pd.concat(tpls)\n",
    "    drug_cid_df = drug_cid_df.drop_duplicates()\n",
    "    \n",
    "    for idx in ['1', '2', '3']:\n",
    "        to_drug_name = 'drug%s' % idx\n",
    "        to_cid_name = 'drug%s_cid' % idx\n",
    "        \n",
    "        drug_cid_df = drug_cid_df.rename(columns={'drug': to_drug_name, 'cid': to_cid_name})\n",
    "        ret_df = ret_df.merge(drug_cid_df, on=to_drug_name)\n",
    "        drug_cid_df = drug_cid_df.rename(columns={to_drug_name: 'drug', to_cid_name: 'cid'})\n",
    "        \n",
    "    return ret_df\n",
    "\n",
    "k562_raw = raw[raw['cell_line_name'] == 'K-562']\n",
    "def match(v):\n",
    "    cols = ['drug1', 'drug2', 'drug3']\n",
    "    \n",
    "    res_concs = {drug_col_name: pd.Series() for drug_col_name in cols}\n",
    "    for perm in itertools.permutations(cols, r=2):\n",
    "        row_name, col_name = perm[0], perm[1]\n",
    "        experiments = k562_raw[(k562_raw['drug_row'] == v[row_name]) & (k562_raw['drug_col'] == v[col_name])]\n",
    "        \n",
    "        res_concs[row_name] = pd.concat((res_concs[row_name], experiments['conc_r']))\n",
    "        res_concs[col_name] = pd.concat((res_concs[col_name], experiments['conc_c']))\n",
    "\n",
    "    \n",
    "    for drug_name, concs in res_concs.items():\n",
    "        res_concs[drug_name] = concs.drop_duplicates()\n",
    "    \n",
    "    return res_concs['drug1'], res_concs['drug2'], res_concs['drug3']\n",
    "\n",
    "def match_all_dataset(v):\n",
    "    cols = ['drug1', 'drug2', 'drug3']\n",
    "    res_concs = {drug_col_name: pd.Series() for drug_col_name in cols}\n",
    "    \n",
    "    for col in cols:\n",
    "        first_experiments = k562_raw[k562_raw['drug_row'] == v[col]]\n",
    "        scnd_experiments  = k562_raw[k562_raw['drug_col'] == v[col]]\n",
    "        \n",
    "        res_concs[col] = pd.concat((first_experiments['conc_r'], scnd_experiments['conc_c']))\n",
    "        \n",
    "    for drug_name, concs in res_concs.items():\n",
    "        res_concs[drug_name] = concs.drop_duplicates()\n",
    "    \n",
    "    return res_concs['drug1'], res_concs['drug2'], res_concs['drug3']\n",
    "\n",
    "def is_10x_multiple(x, y):\n",
    "    return np.isclose(x, y * 10)\n",
    "\n",
    "def is_val_base(x, y):\n",
    "    if np.isclose(x, y):\n",
    "        return True\n",
    "    \n",
    "    v = x / y\n",
    "    while v > 1:\n",
    "        v /= 10\n",
    "    \n",
    "    return v.is_integer()\n",
    "\n",
    "def constr_new_dosing(v):\n",
    "    result = []\n",
    "    for item in v:\n",
    "        item = item[item != 0.0]\n",
    "        \n",
    "        bases = [z for z in item if not any(is_10x_multiple(z, x) and z != x for x in item)]\n",
    "        multiple_sets = [pd.Series([z for z in item if is_val_base(z, base)]) for base in bases]\n",
    "        medians = pd.Series(srs.median() for srs in multiple_sets)\n",
    "        \n",
    "        # Take the median of the different multiple sets\n",
    "        median = medians.median()\n",
    "        \n",
    "        result.append(pd.Series([0., median / 10, median, median * 10]))\n",
    "    \n",
    "    return result[0], result[1], result[2]\n",
    "        \n",
    "def get_doses_naive(series, idx):\n",
    "    return pd.Series([item[idx].tolist() for item in series])\n",
    "\n",
    "def plot_for_matches(srs):\n",
    "    for idx in range(3):\n",
    "        plt.figure()\n",
    "        sns.histplot(get_doses_naive(srs, idx).apply(lambda x: x.shape[0]))\n",
    "        plt.title('Histogram for Drug %d' % (idx + 1))\n",
    "        plt.xlabel('Number of Unique Dose Concentrations for Drug')\n",
    "    \n",
    "def get_cell_line_triplets(cell_line_name):\n",
    "    triplet_df = get_triplet_df(alm_summ)\n",
    "    line_triplets = triplet_df[triplet_df['cell_line_name'] == cell_line_name]\n",
    "    line_triplets['expected_zip'] = (line_triplets['synergy_zip_x'] + line_triplets['synergy_zip_y']) / 2\n",
    "\n",
    "    line_triplets['bins'] = get_bins(line_triplets, 30, 'expected_zip')\n",
    "    return line_triplets\n",
    "    \n",
    "def get_apexbio_triplets(triplets_df):\n",
    "    sheet = pd.read_excel('~/Downloads/k562_drugs_and_in_apexbiolib_status_ams.xlsx')\n",
    "    possible_in_apexbio = sheet[(~sheet['UsedInChemoGenomics-at-IRIC'].isna()) | sheet['Is in ApexBio']]\n",
    "    apexbio_names = possible_in_apexbio['Name'].drop_duplicates()\n",
    "\n",
    "    apexbio_triplets_cond = triplets_df['drug1'].isin(apexbio_names) & triplets_df['drug2'].isin(apexbio_names) & triplets_df['drug3'].isin(apexbio_names)\n",
    "    return triplets_df[apexbio_triplets_cond]\n",
    "\n",
    "def get_line_selections(cell_line_name, num_selections, line_triplets=None):\n",
    "    if line_triplets is None:\n",
    "        line_triplets = get_cell_line_triplets(cell_line_name)\n",
    "        \n",
    "    apexbio_triplets = get_apexbio_triplets(line_triplets)\n",
    "    \n",
    "    apexbio_selections = get_selections(apexbio_triplets, num_selections)\n",
    "    apexbio_selections_cid = add_cid(apexbio_selections)\n",
    "    apexbio_selections_cid_uniq = apexbio_selections_cid.drop_duplicates(subset='comb_name')\n",
    "\n",
    "    matches = apexbio_selections_cid_uniq[['drug1', 'drug2', 'drug3']].apply(lambda x: match(x), axis=1)\n",
    "    new_dosings = matches.apply(lambda x: constr_new_dosing(x))\n",
    "\n",
    "    for i in range(3):\n",
    "        apexbio_selections_cid_uniq['drug%d_dosings' % (i + 1)] = get_doses_naive(new_dosings, i).tolist()\n",
    "        apexbio_selections_cid_uniq['drug%d_dosings_unit' % (i + 1)] = 'uM'\n",
    "        \n",
    "    return apexbio_selections_cid_uniq"
   ]
  },
  {
   "cell_type": "code",
   "execution_count": 3,
   "metadata": {},
   "outputs": [
    {
     "name": "stderr",
     "output_type": "stream",
     "text": [
      "/Users/jarridr/opt/anaconda3/envs/my-rdkit-env/lib/python3.7/site-packages/ipykernel_launcher.py:3: SettingWithCopyWarning: \n",
      "A value is trying to be set on a copy of a slice from a DataFrame.\n",
      "Try using .loc[row_indexer,col_indexer] = value instead\n",
      "\n",
      "See the caveats in the documentation: https://pandas.pydata.org/pandas-docs/stable/user_guide/indexing.html#returning-a-view-versus-a-copy\n",
      "  This is separate from the ipykernel package so we can avoid doing imports until\n",
      "/Users/jarridr/opt/anaconda3/envs/my-rdkit-env/lib/python3.7/site-packages/ipykernel_launcher.py:5: SettingWithCopyWarning: \n",
      "A value is trying to be set on a copy of a slice from a DataFrame.\n",
      "Try using .loc[row_indexer,col_indexer] = value instead\n",
      "\n",
      "See the caveats in the documentation: https://pandas.pydata.org/pandas-docs/stable/user_guide/indexing.html#returning-a-view-versus-a-copy\n",
      "  \"\"\"\n"
     ]
    },
    {
     "data": {
      "text/plain": [
       "bins\n",
       "(-17, -15]       12\n",
       "(-15, -13]      102\n",
       "(-13, -11]      528\n",
       "(-11, -9]      2000\n",
       "(-9, -7]       5376\n",
       "(-7, -5]      11264\n",
       "(-5, -3]      19962\n",
       "(-3, -2]      13706\n",
       "(-2, 0]       32302\n",
       "(0, 2]        29190\n",
       "(2, 4]        19455\n",
       "(4, 6]        11427\n",
       "(6, 7]         3780\n",
       "(7, 9]         5031\n",
       "(9, 10]        1745\n",
       "(10, 11]       1495\n",
       "(11, 13]       2091\n",
       "(13, 15]       1289\n",
       "(15, 17]        754\n",
       "(17, 19]        381\n",
       "(19, 21]        223\n",
       "(21, 23]        123\n",
       "(23, 25]         69\n",
       "(25, 27]         46\n",
       "(27, 29]         17\n",
       "(29, 31]         16\n",
       "(31, 33]          4\n",
       "(33, 35]          5\n",
       "(35, 37]          2\n",
       "(37, 39]          1\n",
       "dtype: int64"
      ]
     },
     "execution_count": 3,
     "metadata": {},
     "output_type": "execute_result"
    }
   ],
   "source": [
    "triplet_df = get_triplet_df(alm_summ)\n",
    "k562_triplets = triplet_df[triplet_df['cell_line_name'] == 'K-562']\n",
    "k562_triplets['expected_zip'] = (k562_triplets['synergy_zip_x'] + k562_triplets['synergy_zip_y']) / 2\n",
    "\n",
    "k562_triplets['bins'] = get_bins(k562_triplets, 30, 'expected_zip')"
   ]
  },
  {
   "cell_type": "code",
   "execution_count": 4,
   "metadata": {},
   "outputs": [],
   "source": [
    "sheet = pd.read_excel('~/Downloads/k562_drugs_and_in_apexbiolib_status_ams.xlsx')\n",
    "possible_in_apexbio = sheet[(~sheet['UsedInChemoGenomics-at-IRIC'].isna()) | sheet['Is in ApexBio']]\n",
    "apexbio_names = possible_in_apexbio['Name'].drop_duplicates()\n",
    "\n",
    "apexbio_k562_cond = k562_triplets['drug1'].isin(apexbio_names) & k562_triplets['drug2'].isin(apexbio_names) & k562_triplets['drug3'].isin(apexbio_names)\n",
    "apexbio_k562_triplets = k562_triplets[apexbio_k562_cond]"
   ]
  },
  {
   "cell_type": "code",
   "execution_count": 9,
   "metadata": {},
   "outputs": [
    {
     "name": "stderr",
     "output_type": "stream",
     "text": [
      "/Users/jarridr/opt/anaconda3/envs/my-rdkit-env/lib/python3.7/site-packages/ipykernel_launcher.py:140: DeprecationWarning: The default dtype for empty Series will be 'object' instead of 'float64' in a future version. Specify a dtype explicitly to silence this warning.\n",
      "/Users/jarridr/opt/anaconda3/envs/my-rdkit-env/lib/python3.7/site-packages/ipykernel_launcher.py:9: SettingWithCopyWarning: \n",
      "A value is trying to be set on a copy of a slice from a DataFrame.\n",
      "Try using .loc[row_indexer,col_indexer] = value instead\n",
      "\n",
      "See the caveats in the documentation: https://pandas.pydata.org/pandas-docs/stable/user_guide/indexing.html#returning-a-view-versus-a-copy\n",
      "  if __name__ == '__main__':\n",
      "/Users/jarridr/opt/anaconda3/envs/my-rdkit-env/lib/python3.7/site-packages/ipykernel_launcher.py:10: SettingWithCopyWarning: \n",
      "A value is trying to be set on a copy of a slice from a DataFrame.\n",
      "Try using .loc[row_indexer,col_indexer] = value instead\n",
      "\n",
      "See the caveats in the documentation: https://pandas.pydata.org/pandas-docs/stable/user_guide/indexing.html#returning-a-view-versus-a-copy\n",
      "  # Remove the CWD from sys.path while we load stuff.\n"
     ]
    }
   ],
   "source": [
    "apexbio_selections = get_selections(apexbio_k562_triplets, 500)\n",
    "apexbio_selections_cid = add_cid(apexbio_selections)\n",
    "apexbio_selections_cid_uniq = apexbio_selections_cid.drop_duplicates(subset='comb_name')\n",
    "\n",
    "matches = apexbio_selections_cid_uniq[['drug1', 'drug2', 'drug3']].apply(lambda x: match(x), axis=1)\n",
    "new_dosings = matches.apply(lambda x: constr_new_dosing(x))\n",
    "\n",
    "for i in range(3):\n",
    "    apexbio_selections_cid_uniq['drug%d_dosings' % (i + 1)] = get_doses_naive(new_dosings, i).tolist()\n",
    "    apexbio_selections_cid_uniq['drug%d_dosings_unit' % (i + 1)] = 'uM'"
   ]
  },
  {
   "cell_type": "code",
   "execution_count": 11,
   "metadata": {},
   "outputs": [
    {
     "data": {
      "text/html": [
       "<div>\n",
       "<style scoped>\n",
       "    .dataframe tbody tr th:only-of-type {\n",
       "        vertical-align: middle;\n",
       "    }\n",
       "\n",
       "    .dataframe tbody tr th {\n",
       "        vertical-align: top;\n",
       "    }\n",
       "\n",
       "    .dataframe thead th {\n",
       "        text-align: right;\n",
       "    }\n",
       "</style>\n",
       "<table border=\"1\" class=\"dataframe\">\n",
       "  <thead>\n",
       "    <tr style=\"text-align: right;\">\n",
       "      <th></th>\n",
       "      <th>drug1</th>\n",
       "      <th>drug2</th>\n",
       "      <th>drug3</th>\n",
       "    </tr>\n",
       "  </thead>\n",
       "  <tbody>\n",
       "    <tr>\n",
       "      <th>0</th>\n",
       "      <td>ACTINOMYCIN D</td>\n",
       "      <td>LAPATINIB</td>\n",
       "      <td>VEMURAFENIB</td>\n",
       "    </tr>\n",
       "    <tr>\n",
       "      <th>1</th>\n",
       "      <td>DASATINIB</td>\n",
       "      <td>LAPATINIB</td>\n",
       "      <td>VEMURAFENIB</td>\n",
       "    </tr>\n",
       "    <tr>\n",
       "      <th>2</th>\n",
       "      <td>ACTINOMYCIN D</td>\n",
       "      <td>TRETINOIN</td>\n",
       "      <td>VEMURAFENIB</td>\n",
       "    </tr>\n",
       "    <tr>\n",
       "      <th>3</th>\n",
       "      <td>DAUNORUBICIN HYDROCHLORIDE</td>\n",
       "      <td>TRETINOIN</td>\n",
       "      <td>VEMURAFENIB</td>\n",
       "    </tr>\n",
       "    <tr>\n",
       "      <th>4</th>\n",
       "      <td>ACTINOMYCIN D</td>\n",
       "      <td>TAMOXIFEN CITRATE</td>\n",
       "      <td>VEMURAFENIB</td>\n",
       "    </tr>\n",
       "    <tr>\n",
       "      <th>...</th>\n",
       "      <td>...</td>\n",
       "      <td>...</td>\n",
       "      <td>...</td>\n",
       "    </tr>\n",
       "    <tr>\n",
       "      <th>523</th>\n",
       "      <td>CO-V</td>\n",
       "      <td>NSC-127716</td>\n",
       "      <td>IFOSFAMIDE</td>\n",
       "    </tr>\n",
       "    <tr>\n",
       "      <th>524</th>\n",
       "      <td>QUINACRINE HYDROCHLORIDE</td>\n",
       "      <td>TOPOTECAN HYDROCHLORIDE</td>\n",
       "      <td>MECHLORETHAMINE HYDROCHLORIDE</td>\n",
       "    </tr>\n",
       "    <tr>\n",
       "      <th>525</th>\n",
       "      <td>CISPLATINO</td>\n",
       "      <td>ARSENIC TRIOXIDE</td>\n",
       "      <td>THALIDOMIDE</td>\n",
       "    </tr>\n",
       "    <tr>\n",
       "      <th>526</th>\n",
       "      <td>PRALATREXATE</td>\n",
       "      <td>ARSENIC TRIOXIDE</td>\n",
       "      <td>5-FLUORO-2'-DEOXYURIDINE</td>\n",
       "    </tr>\n",
       "    <tr>\n",
       "      <th>527</th>\n",
       "      <td>CYCLOPHOSPHAMIDE</td>\n",
       "      <td>ARSENIC TRIOXIDE</td>\n",
       "      <td>AZACYTIDINE</td>\n",
       "    </tr>\n",
       "  </tbody>\n",
       "</table>\n",
       "<p>500 rows × 3 columns</p>\n",
       "</div>"
      ],
      "text/plain": [
       "                          drug1                    drug2  \\\n",
       "0                 ACTINOMYCIN D                LAPATINIB   \n",
       "1                     DASATINIB                LAPATINIB   \n",
       "2                 ACTINOMYCIN D                TRETINOIN   \n",
       "3    DAUNORUBICIN HYDROCHLORIDE                TRETINOIN   \n",
       "4                 ACTINOMYCIN D        TAMOXIFEN CITRATE   \n",
       "..                          ...                      ...   \n",
       "523                        CO-V               NSC-127716   \n",
       "524    QUINACRINE HYDROCHLORIDE  TOPOTECAN HYDROCHLORIDE   \n",
       "525                  CISPLATINO         ARSENIC TRIOXIDE   \n",
       "526                PRALATREXATE         ARSENIC TRIOXIDE   \n",
       "527            CYCLOPHOSPHAMIDE         ARSENIC TRIOXIDE   \n",
       "\n",
       "                             drug3  \n",
       "0                      VEMURAFENIB  \n",
       "1                      VEMURAFENIB  \n",
       "2                      VEMURAFENIB  \n",
       "3                      VEMURAFENIB  \n",
       "4                      VEMURAFENIB  \n",
       "..                             ...  \n",
       "523                     IFOSFAMIDE  \n",
       "524  MECHLORETHAMINE HYDROCHLORIDE  \n",
       "525                    THALIDOMIDE  \n",
       "526       5-FLUORO-2'-DEOXYURIDINE  \n",
       "527                    AZACYTIDINE  \n",
       "\n",
       "[500 rows x 3 columns]"
      ]
     },
     "execution_count": 11,
     "metadata": {},
     "output_type": "execute_result"
    }
   ],
   "source": [
    "apexbio_selections_cid_uniq[['drug1', 'drug2', 'drug3']]"
   ]
  },
  {
   "cell_type": "code",
   "execution_count": 16,
   "metadata": {},
   "outputs": [
    {
     "data": {
      "text/plain": [
       "0                               ACTINOMYCIN D|LAPATINIB\n",
       "1                                   DASATINIB|LAPATINIB\n",
       "2                               ACTINOMYCIN D|TRETINOIN\n",
       "3                  DAUNORUBICIN HYDROCHLORIDE|TRETINOIN\n",
       "4                       ACTINOMYCIN D|TAMOXIFEN CITRATE\n",
       "                             ...                       \n",
       "523                                     CO-V|NSC-127716\n",
       "524    QUINACRINE HYDROCHLORIDE|TOPOTECAN HYDROCHLORIDE\n",
       "525                         ARSENIC TRIOXIDE|CISPLATINO\n",
       "526                       ARSENIC TRIOXIDE|PRALATREXATE\n",
       "527                   ARSENIC TRIOXIDE|CYCLOPHOSPHAMIDE\n",
       "Length: 500, dtype: object"
      ]
     },
     "execution_count": 16,
     "metadata": {},
     "output_type": "execute_result"
    }
   ],
   "source": [
    "apexbio_selections_cid_uniq[['drug1', 'drug2']].apply(lambda x: '|'.join(sorted(x[['drug1', 'drug2']])), axis=1)"
   ]
  },
  {
   "cell_type": "code",
   "execution_count": 17,
   "metadata": {},
   "outputs": [
    {
     "data": {
      "text/plain": [
       "pandas.core.frame.DataFrame"
      ]
     },
     "execution_count": 17,
     "metadata": {},
     "output_type": "execute_result"
    }
   ],
   "source": [
    "type(apexbio_selections_cid_uniq[['drug1', 'drug2']])"
   ]
  },
  {
   "cell_type": "code",
   "execution_count": 79,
   "metadata": {},
   "outputs": [],
   "source": [
    "def _get_comb_counts(df):\n",
    "    all_combs = pd.concat((df['comb1'], df['comb2'], df['comb3']))\n",
    "    combs_frame = all_combs.to_frame().rename(columns={0: 'comb'})\n",
    "    sizes = combs_frame.groupby('comb').size()\n",
    "    \n",
    "    return sizes.to_dict()\n",
    "\n",
    "def get_comb_counts_df(init_df):\n",
    "    df = init_df.copy()\n",
    "    \n",
    "    for i, idx_pair in enumerate([[1, 2], [1, 3], [2, 3]]):\n",
    "        cols = ['drug%d' % v for v in idx_pair]\n",
    "        df['comb%d' % (i + 1)] = df[cols].apply(lambda x: '|'.join(sorted(x[cols])), axis=1)\n",
    "    \n",
    "    comb_counts = _get_comb_counts(df)\n",
    "    \n",
    "    for i in range(3):\n",
    "        df['comb_count%d' % (i + 1)] = df['comb%d' % (i + 1)].apply(lambda x: comb_counts[x])\n",
    "    \n",
    "    return df\n",
    "    \n",
    "def get_leq_than_x_combs_triplets(init_df, num_combs_leq):\n",
    "    df = get_comb_counts_df(init_df)\n",
    "    idx = (df['comb_count1'] <= num_combs_leq) & (df['comb_count2'] <= num_combs_leq) & (df['comb_count3'] <= num_combs_leq)\n",
    "    \n",
    "    return init_df[idx]"
   ]
  },
  {
   "cell_type": "code",
   "execution_count": 62,
   "metadata": {},
   "outputs": [],
   "source": [
    "samp = get_leq_than_x_combs_triplets(apexbio_selections_cid_uniq, 3)"
   ]
  },
  {
   "cell_type": "code",
   "execution_count": 63,
   "metadata": {},
   "outputs": [
    {
     "data": {
      "text/plain": [
       "<matplotlib.axes._subplots.AxesSubplot at 0x7fedc0c9f250>"
      ]
     },
     "execution_count": 63,
     "metadata": {},
     "output_type": "execute_result"
    },
    {
     "data": {
      "image/png": "[encoded data removed]",
      "text/plain": [
       "<Figure size 432x288 with 1 Axes>"
      ]
     },
     "metadata": {
      "needs_background": "light"
     },
     "output_type": "display_data"
    }
   ],
   "source": [
    "sns.histplot(samp['expected_zip'])"
   ]
  },
  {
   "cell_type": "code",
   "execution_count": 93,
   "metadata": {},
   "outputs": [
    {
     "data": {
      "text/plain": [
       "<matplotlib.axes._subplots.AxesSubplot at 0x7fedc69d0610>"
      ]
     },
     "execution_count": 93,
     "metadata": {},
     "output_type": "execute_result"
    },
    {
     "data": {
      "image/png": "[encoded data removed]",
      "text/plain": [
       "<Figure size 432x288 with 1 Axes>"
      ]
     },
     "metadata": {
      "needs_background": "light"
     },
     "output_type": "display_data"
    }
   ],
   "source": [
    "sns.histplot(df['expected_zip'])"
   ]
  },
  {
   "cell_type": "code",
   "execution_count": 75,
   "metadata": {},
   "outputs": [
    {
     "name": "stderr",
     "output_type": "stream",
     "text": [
      "/Users/jarridr/opt/anaconda3/envs/my-rdkit-env/lib/python3.7/site-packages/ipykernel_launcher.py:140: DeprecationWarning: The default dtype for empty Series will be 'object' instead of 'float64' in a future version. Specify a dtype explicitly to silence this warning.\n",
      "/Users/jarridr/opt/anaconda3/envs/my-rdkit-env/lib/python3.7/site-packages/ipykernel_launcher.py:247: SettingWithCopyWarning: \n",
      "A value is trying to be set on a copy of a slice from a DataFrame.\n",
      "Try using .loc[row_indexer,col_indexer] = value instead\n",
      "\n",
      "See the caveats in the documentation: https://pandas.pydata.org/pandas-docs/stable/user_guide/indexing.html#returning-a-view-versus-a-copy\n",
      "/Users/jarridr/opt/anaconda3/envs/my-rdkit-env/lib/python3.7/site-packages/ipykernel_launcher.py:248: SettingWithCopyWarning: \n",
      "A value is trying to be set on a copy of a slice from a DataFrame.\n",
      "Try using .loc[row_indexer,col_indexer] = value instead\n",
      "\n",
      "See the caveats in the documentation: https://pandas.pydata.org/pandas-docs/stable/user_guide/indexing.html#returning-a-view-versus-a-copy\n"
     ]
    }
   ],
   "source": [
    "df = get_line_selections('K-562', 300, k562_triplets)"
   ]
  },
  {
   "cell_type": "code",
   "execution_count": 77,
   "metadata": {},
   "outputs": [
    {
     "data": {
      "text/plain": [
       "<matplotlib.axes._subplots.AxesSubplot at 0x7fed818fcc90>"
      ]
     },
     "execution_count": 77,
     "metadata": {},
     "output_type": "execute_result"
    },
    {
     "data": {
      "image/png": "[encoded data removed]",
      "text/plain": [
       "<Figure size 432x288 with 1 Axes>"
      ]
     },
     "metadata": {
      "needs_background": "light"
     },
     "output_type": "display_data"
    }
   ],
   "source": [
    "sns.histplot(get_leq_than_x_combs_triplets(df, 3)['expected_zip'])"
   ]
  },
  {
   "cell_type": "code",
   "execution_count": 80,
   "metadata": {},
   "outputs": [],
   "source": [
    "df = get_comb_counts_df(df)"
   ]
  },
  {
   "cell_type": "code",
   "execution_count": 84,
   "metadata": {},
   "outputs": [],
   "source": [
    "vals = None\n",
    "for i in range(3):\n",
    "    srs = (df['comb_count%d' % (i + 1)] > 3).astype(int)\n",
    "    if vals is None:\n",
    "        vals = srs\n",
    "    else:\n",
    "        vals = vals + srs\n",
    "        "
   ]
  },
  {
   "cell_type": "code",
   "execution_count": 88,
   "metadata": {},
   "outputs": [],
   "source": [
    "df['counts_over_3'] = vals"
   ]
  },
  {
   "cell_type": "code",
   "execution_count": 92,
   "metadata": {},
   "outputs": [
    {
     "data": {
      "text/plain": [
       "<matplotlib.axes._subplots.AxesSubplot at 0x7fed096daa50>"
      ]
     },
     "execution_count": 92,
     "metadata": {},
     "output_type": "execute_result"
    },
    {
     "data": {
      "image/png": "[encoded data removed]",
      "text/plain": [
       "<Figure size 432x288 with 1 Axes>"
      ]
     },
     "metadata": {
      "needs_background": "light"
     },
     "output_type": "display_data"
    }
   ],
   "source": [
    "sns.kdeplot(data=df, x='expected_zip', hue='counts_over_3')"
   ]
  },
  {
   "cell_type": "code",
   "execution_count": 110,
   "metadata": {},
   "outputs": [],
   "source": [
    "import heapq\n",
    "\n",
    "class Bin:\n",
    "    def __init__(self, bin_, num_total, num_missing):\n",
    "        self.bin_ = bin_\n",
    "        self.num_total = num_total\n",
    "        self.num_missing = num_missing\n",
    "    \n",
    "    @property\n",
    "    def proportion_missing(self):\n",
    "        return self.num_missing / self.num_total\n",
    "    \n",
    "    # use negative of each here as we want to do a max priority-queue\n",
    "    def __lt__(self, other):\n",
    "        return -self.proportion_missing < -other.proportion_missing\n",
    "\n",
    "def _get_missing_bins(init_df, selections):\n",
    "    num_in_bins_pre = init_df.groupby('bins').size().to_dict()\n",
    "    num_in_bins_seld = selections.groupby('bins').size().to_dict()\n",
    "\n",
    "    bins = []\n",
    "    for bin_id in num_in_bins_pre.keys():\n",
    "        num_total = num_in_bins_pre[bin_id]\n",
    "        num_missing = num_total\n",
    "        if bin_id in num_in_bins_seld:\n",
    "            num_missing -= num_in_bins_seld[bin_id]\n",
    "            \n",
    "        if num_missing != 0:\n",
    "            bins.append(Bin(bin_id, num_total, num_missing))\n",
    "            \n",
    "    return bins\n",
    "\n",
    "def _get_sels_non_sels(df, num_at_most):\n",
    "    if 'comb_count1' not in df:\n",
    "        df = get_comb_counts_df(df)\n",
    "        \n",
    "    all_combs_naive_valid = (fdf['comb_count1'] <= num_combs_leq) & \\\n",
    "                            (df['comb_count2'] <= num_combs_leq) & \\\n",
    "                            (df['comb_count3'] <= num_combs_leq)\n",
    "    \n",
    "    selections = df[all_combs_naive_valid]\n",
    "    non_selections = df[~all_combs_naive_valid]\n",
    "    \n",
    "    return selections, non_selections\n",
    "    \n",
    "def _get_comb_avail_count(df, num_at_most):\n",
    "    non_seld_combs = pd.concat((non_selections['comb%d' % (i + 1)] for i in range(3))).drop_duplicates()\n",
    "    return {comb: num_at_most for comb in non_seld_combs}\n",
    "    \n",
    "def select_values_greedy(df, num_at_most):\n",
    "    selections, non_selections = _get_sels_non_sels(df, num_at_most)\n",
    "    \n",
    "    missing_bins = _get_missing_bins(df, selections)\n",
    "    non_seld_bins = non_selections.groupby('bins').groups\n",
    "    \n",
    "    non_seld_combs = pd.concat((non_selections['comb%d' % (i + 1)] for i in range(3))).drop_duplicates()\n",
    "    comb_avail_count = _get_comb_avail_count()"
   ]
  },
  {
   "cell_type": "code",
   "execution_count": 106,
   "metadata": {},
   "outputs": [
    {
     "data": {
      "text/html": [
       "<div>\n",
       "<style scoped>\n",
       "    .dataframe tbody tr th:only-of-type {\n",
       "        vertical-align: middle;\n",
       "    }\n",
       "\n",
       "    .dataframe tbody tr th {\n",
       "        vertical-align: top;\n",
       "    }\n",
       "\n",
       "    .dataframe thead th {\n",
       "        text-align: right;\n",
       "    }\n",
       "</style>\n",
       "<table border=\"1\" class=\"dataframe\">\n",
       "  <thead>\n",
       "    <tr style=\"text-align: right;\">\n",
       "      <th></th>\n",
       "      <th>block_id_x</th>\n",
       "      <th>drug1</th>\n",
       "      <th>drug2</th>\n",
       "      <th>cell_line_name</th>\n",
       "      <th>conc_r_unit_x</th>\n",
       "      <th>conc_c_unit_x</th>\n",
       "      <th>css_x</th>\n",
       "      <th>synergy_zip_x</th>\n",
       "      <th>synergy_bliss_x</th>\n",
       "      <th>synergy_loewe_x</th>\n",
       "      <th>...</th>\n",
       "      <th>drug2_dosings_unit</th>\n",
       "      <th>drug3_dosings</th>\n",
       "      <th>drug3_dosings_unit</th>\n",
       "      <th>comb1</th>\n",
       "      <th>comb2</th>\n",
       "      <th>comb3</th>\n",
       "      <th>comb_count1</th>\n",
       "      <th>comb_count2</th>\n",
       "      <th>comb_count3</th>\n",
       "      <th>counts_over_3</th>\n",
       "    </tr>\n",
       "  </thead>\n",
       "  <tbody>\n",
       "    <tr>\n",
       "      <th>187</th>\n",
       "      <td>434991</td>\n",
       "      <td>AZACYTIDINE</td>\n",
       "      <td>NSC256439</td>\n",
       "      <td>K-562</td>\n",
       "      <td>uM</td>\n",
       "      <td>uM</td>\n",
       "      <td>49.4160</td>\n",
       "      <td>-11.804748</td>\n",
       "      <td>-12.289161</td>\n",
       "      <td>-7.425185</td>\n",
       "      <td>...</td>\n",
       "      <td>uM</td>\n",
       "      <td>[0.0, 0.05500000000000001, 0.55, 5.5]</td>\n",
       "      <td>uM</td>\n",
       "      <td>AZACYTIDINE|NSC256439</td>\n",
       "      <td>AZACYTIDINE|CYTARABINE HYDROCHLORIDE</td>\n",
       "      <td>CYTARABINE HYDROCHLORIDE|NSC256439</td>\n",
       "      <td>2</td>\n",
       "      <td>1</td>\n",
       "      <td>1</td>\n",
       "      <td>0</td>\n",
       "    </tr>\n",
       "    <tr>\n",
       "      <th>276</th>\n",
       "      <td>310075</td>\n",
       "      <td>CHLORAMBUCIL</td>\n",
       "      <td>CYTARABINE HYDROCHLORIDE</td>\n",
       "      <td>K-562</td>\n",
       "      <td>uM</td>\n",
       "      <td>uM</td>\n",
       "      <td>42.0025</td>\n",
       "      <td>-4.704251</td>\n",
       "      <td>-4.173443</td>\n",
       "      <td>-6.593808</td>\n",
       "      <td>...</td>\n",
       "      <td>uM</td>\n",
       "      <td>[0.0, 0.3, 3.0, 30.0]</td>\n",
       "      <td>uM</td>\n",
       "      <td>CHLORAMBUCIL|CYTARABINE HYDROCHLORIDE</td>\n",
       "      <td>CHLORAMBUCIL|LENALIDOMIDE</td>\n",
       "      <td>CYTARABINE HYDROCHLORIDE|LENALIDOMIDE</td>\n",
       "      <td>1</td>\n",
       "      <td>1</td>\n",
       "      <td>1</td>\n",
       "      <td>0</td>\n",
       "    </tr>\n",
       "    <tr>\n",
       "      <th>278</th>\n",
       "      <td>295363</td>\n",
       "      <td>CISPLATINO</td>\n",
       "      <td>ARSENIC TRIOXIDE</td>\n",
       "      <td>K-562</td>\n",
       "      <td>uM</td>\n",
       "      <td>uM</td>\n",
       "      <td>77.5835</td>\n",
       "      <td>31.971853</td>\n",
       "      <td>25.294883</td>\n",
       "      <td>23.910785</td>\n",
       "      <td>...</td>\n",
       "      <td>uM</td>\n",
       "      <td>[0.0, 0.3, 3.0, 30.0]</td>\n",
       "      <td>uM</td>\n",
       "      <td>ARSENIC TRIOXIDE|CISPLATINO</td>\n",
       "      <td>CISPLATINO|LENALIDOMIDE</td>\n",
       "      <td>ARSENIC TRIOXIDE|LENALIDOMIDE</td>\n",
       "      <td>4</td>\n",
       "      <td>1</td>\n",
       "      <td>1</td>\n",
       "      <td>1</td>\n",
       "    </tr>\n",
       "  </tbody>\n",
       "</table>\n",
       "<p>3 rows × 55 columns</p>\n",
       "</div>"
      ],
      "text/plain": [
       "    block_id_x         drug1                     drug2 cell_line_name  \\\n",
       "187     434991   AZACYTIDINE                 NSC256439          K-562   \n",
       "276     310075  CHLORAMBUCIL  CYTARABINE HYDROCHLORIDE          K-562   \n",
       "278     295363    CISPLATINO          ARSENIC TRIOXIDE          K-562   \n",
       "\n",
       "    conc_r_unit_x conc_c_unit_x    css_x  synergy_zip_x  synergy_bliss_x  \\\n",
       "187            uM            uM  49.4160     -11.804748       -12.289161   \n",
       "276            uM            uM  42.0025      -4.704251        -4.173443   \n",
       "278            uM            uM  77.5835      31.971853        25.294883   \n",
       "\n",
       "     synergy_loewe_x  ...  drug2_dosings_unit  \\\n",
       "187        -7.425185  ...                  uM   \n",
       "276        -6.593808  ...                  uM   \n",
       "278        23.910785  ...                  uM   \n",
       "\n",
       "                             drug3_dosings  drug3_dosings_unit  \\\n",
       "187  [0.0, 0.05500000000000001, 0.55, 5.5]                  uM   \n",
       "276                  [0.0, 0.3, 3.0, 30.0]                  uM   \n",
       "278                  [0.0, 0.3, 3.0, 30.0]                  uM   \n",
       "\n",
       "                                     comb1  \\\n",
       "187                  AZACYTIDINE|NSC256439   \n",
       "276  CHLORAMBUCIL|CYTARABINE HYDROCHLORIDE   \n",
       "278            ARSENIC TRIOXIDE|CISPLATINO   \n",
       "\n",
       "                                    comb2  \\\n",
       "187  AZACYTIDINE|CYTARABINE HYDROCHLORIDE   \n",
       "276             CHLORAMBUCIL|LENALIDOMIDE   \n",
       "278               CISPLATINO|LENALIDOMIDE   \n",
       "\n",
       "                                     comb3  comb_count1  comb_count2  \\\n",
       "187     CYTARABINE HYDROCHLORIDE|NSC256439            2            1   \n",
       "276  CYTARABINE HYDROCHLORIDE|LENALIDOMIDE            1            1   \n",
       "278          ARSENIC TRIOXIDE|LENALIDOMIDE            4            1   \n",
       "\n",
       "    comb_count3 counts_over_3  \n",
       "187           1             0  \n",
       "276           1             0  \n",
       "278           1             1  \n",
       "\n",
       "[3 rows x 55 columns]"
      ]
     },
     "execution_count": 106,
     "metadata": {},
     "output_type": "execute_result"
    }
   ],
   "source": [
    "df.iloc[list(df.groupby('bins').groups.values())[0]]"
   ]
  },
  {
   "cell_type": "code",
   "execution_count": null,
   "metadata": {},
   "outputs": [],
   "source": []
  }
 ],
 "metadata": {
  "kernelspec": {
   "display_name": "my-rdkit-env",
   "language": "python",
   "name": "my-rdkit-env"
  },
  "language_info": {
   "codemirror_mode": {
    "name": "ipython",
    "version": 3
   },
   "file_extension": ".py",
   "mimetype": "text/x-python",
   "name": "python",
   "nbconvert_exporter": "python",
   "pygments_lexer": "ipython3",
   "version": "3.7.9"
  }
 },
 "nbformat": 4,
 "nbformat_minor": 4
}
