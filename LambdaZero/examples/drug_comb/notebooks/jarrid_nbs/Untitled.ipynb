{
 "cells": [
  {
   "cell_type": "code",
   "execution_count": 1,
   "metadata": {},
   "outputs": [
    {
     "name": "stderr",
     "output_type": "stream",
     "text": [
      "/Users/jarridr/opt/anaconda3/envs/my-rdkit-env/lib/python3.7/site-packages/IPython/core/interactiveshell.py:3146: DtypeWarning: Columns (2,5) have mixed types.Specify dtype option on import or set low_memory=False.\n",
      "  interactivity=interactivity, compiler=compiler, result=result)\n",
      "/Users/jarridr/opt/anaconda3/envs/my-rdkit-env/lib/python3.7/site-packages/IPython/core/interactiveshell.py:3146: DtypeWarning: Columns (5,7,11) have mixed types.Specify dtype option on import or set low_memory=False.\n",
      "  interactivity=interactivity, compiler=compiler, result=result)\n"
     ]
    }
   ],
   "source": [
    "import seaborn as sns\n",
    "import pandas as pd\n",
    "import matplotlib.pyplot as plt\n",
    "\n",
    "summ = pd.read_csv('summary_table_v1.4.csv')\n",
    "raw = pd.read_csv('drugcomb_data_v1.4.csv')\n",
    "\n",
    "block_to_study = raw[['block_id', 'study_name']].drop_duplicates()\n",
    "summ = summ.merge(block_to_study, on='block_id')\n",
    "\n",
    "mono = summ[summ['drug_col'].isna()]\n",
    "comb = summ[~summ['drug_col'].isna()]\n",
    "\n",
    "alm_raw = raw[raw['study_name'] == 'ALMANAC']"
   ]
  },
  {
   "cell_type": "code",
   "execution_count": 3,
   "metadata": {},
   "outputs": [],
   "source": [
    "line = comb[comb['cell_line_name'] == 'HT29']\n",
    "\n",
    "all_drugs = pd.concat((line['drug_row'], line['drug_col']))\n",
    "\n",
    "df = pd.DataFrame()\n",
    "df['drugs'] = all_drugs.unique()"
   ]
  },
  {
   "cell_type": "code",
   "execution_count": 5,
   "metadata": {},
   "outputs": [],
   "source": [
    "df.to_csv('drugs_in_ht29.csv')"
   ]
  },
  {
   "cell_type": "code",
   "execution_count": 6,
   "metadata": {},
   "outputs": [
    {
     "data": {
      "text/html": [
       "<div>\n",
       "<style scoped>\n",
       "    .dataframe tbody tr th:only-of-type {\n",
       "        vertical-align: middle;\n",
       "    }\n",
       "\n",
       "    .dataframe tbody tr th {\n",
       "        vertical-align: top;\n",
       "    }\n",
       "\n",
       "    .dataframe thead th {\n",
       "        text-align: right;\n",
       "    }\n",
       "</style>\n",
       "<table border=\"1\" class=\"dataframe\">\n",
       "  <thead>\n",
       "    <tr style=\"text-align: right;\">\n",
       "      <th></th>\n",
       "      <th>block_id</th>\n",
       "      <th>drug_row</th>\n",
       "      <th>drug_col</th>\n",
       "      <th>cell_line_name</th>\n",
       "      <th>conc_r_unit</th>\n",
       "      <th>conc_c_unit</th>\n",
       "      <th>css</th>\n",
       "      <th>synergy_zip</th>\n",
       "      <th>synergy_bliss</th>\n",
       "      <th>synergy_loewe</th>\n",
       "      <th>synergy_hsa</th>\n",
       "      <th>ic50_row</th>\n",
       "      <th>ic50_col</th>\n",
       "      <th>ri_row</th>\n",
       "      <th>ri_col</th>\n",
       "      <th>css_row</th>\n",
       "      <th>css_col</th>\n",
       "      <th>S</th>\n",
       "      <th>study_name</th>\n",
       "    </tr>\n",
       "  </thead>\n",
       "  <tbody>\n",
       "    <tr>\n",
       "      <th>4</th>\n",
       "      <td>5</td>\n",
       "      <td>5-FU</td>\n",
       "      <td>AZD1775</td>\n",
       "      <td>A2058</td>\n",
       "      <td>uM</td>\n",
       "      <td>uM</td>\n",
       "      <td>66.8470</td>\n",
       "      <td>12.284698</td>\n",
       "      <td>15.765467</td>\n",
       "      <td>10.409407</td>\n",
       "      <td>18.656340</td>\n",
       "      <td>5.126836</td>\n",
       "      <td>0.266027</td>\n",
       "      <td>11.471</td>\n",
       "      <td>25.164</td>\n",
       "      <td>76.501</td>\n",
       "      <td>57.193</td>\n",
       "      <td>30.2120</td>\n",
       "      <td>ONEIL</td>\n",
       "    </tr>\n",
       "    <tr>\n",
       "      <th>6</th>\n",
       "      <td>7</td>\n",
       "      <td>5-FU</td>\n",
       "      <td>AZD1775</td>\n",
       "      <td>A2058</td>\n",
       "      <td>uM</td>\n",
       "      <td>uM</td>\n",
       "      <td>65.5930</td>\n",
       "      <td>14.792935</td>\n",
       "      <td>15.182467</td>\n",
       "      <td>9.826407</td>\n",
       "      <td>18.073340</td>\n",
       "      <td>5.126836</td>\n",
       "      <td>0.266027</td>\n",
       "      <td>11.471</td>\n",
       "      <td>25.164</td>\n",
       "      <td>72.965</td>\n",
       "      <td>58.221</td>\n",
       "      <td>28.9580</td>\n",
       "      <td>ONEIL</td>\n",
       "    </tr>\n",
       "    <tr>\n",
       "      <th>24</th>\n",
       "      <td>25</td>\n",
       "      <td>5-FU</td>\n",
       "      <td>ERLOTINIB</td>\n",
       "      <td>A2058</td>\n",
       "      <td>uM</td>\n",
       "      <td>uM</td>\n",
       "      <td>50.6395</td>\n",
       "      <td>11.437784</td>\n",
       "      <td>15.690289</td>\n",
       "      <td>15.893848</td>\n",
       "      <td>18.451300</td>\n",
       "      <td>5.126836</td>\n",
       "      <td>5.000000</td>\n",
       "      <td>11.471</td>\n",
       "      <td>7.953</td>\n",
       "      <td>60.341</td>\n",
       "      <td>40.938</td>\n",
       "      <td>31.2155</td>\n",
       "      <td>ONEIL</td>\n",
       "    </tr>\n",
       "    <tr>\n",
       "      <th>38</th>\n",
       "      <td>39</td>\n",
       "      <td>5-FU</td>\n",
       "      <td>LAPATINIB</td>\n",
       "      <td>A2058</td>\n",
       "      <td>uM</td>\n",
       "      <td>uM</td>\n",
       "      <td>39.4540</td>\n",
       "      <td>11.006306</td>\n",
       "      <td>14.724029</td>\n",
       "      <td>13.243399</td>\n",
       "      <td>16.257410</td>\n",
       "      <td>5.126836</td>\n",
       "      <td>1.673086</td>\n",
       "      <td>11.471</td>\n",
       "      <td>3.237</td>\n",
       "      <td>36.283</td>\n",
       "      <td>42.625</td>\n",
       "      <td>24.7460</td>\n",
       "      <td>ONEIL</td>\n",
       "    </tr>\n",
       "    <tr>\n",
       "      <th>40</th>\n",
       "      <td>41</td>\n",
       "      <td>5-FU</td>\n",
       "      <td>MK-2206</td>\n",
       "      <td>A2058</td>\n",
       "      <td>uM</td>\n",
       "      <td>uM</td>\n",
       "      <td>51.1035</td>\n",
       "      <td>13.287630</td>\n",
       "      <td>13.554054</td>\n",
       "      <td>14.370355</td>\n",
       "      <td>17.383512</td>\n",
       "      <td>5.126836</td>\n",
       "      <td>4.000000</td>\n",
       "      <td>11.471</td>\n",
       "      <td>11.679</td>\n",
       "      <td>59.794</td>\n",
       "      <td>42.413</td>\n",
       "      <td>27.9535</td>\n",
       "      <td>ONEIL</td>\n",
       "    </tr>\n",
       "    <tr>\n",
       "      <th>...</th>\n",
       "      <td>...</td>\n",
       "      <td>...</td>\n",
       "      <td>...</td>\n",
       "      <td>...</td>\n",
       "      <td>...</td>\n",
       "      <td>...</td>\n",
       "      <td>...</td>\n",
       "      <td>...</td>\n",
       "      <td>...</td>\n",
       "      <td>...</td>\n",
       "      <td>...</td>\n",
       "      <td>...</td>\n",
       "      <td>...</td>\n",
       "      <td>...</td>\n",
       "      <td>...</td>\n",
       "      <td>...</td>\n",
       "      <td>...</td>\n",
       "      <td>...</td>\n",
       "      <td>...</td>\n",
       "    </tr>\n",
       "    <tr>\n",
       "      <th>466028</th>\n",
       "      <td>466255</td>\n",
       "      <td>JNK-IN-7</td>\n",
       "      <td>TARIQUIDAR</td>\n",
       "      <td>KB-ChR-8-5-11</td>\n",
       "      <td>uM</td>\n",
       "      <td>uM</td>\n",
       "      <td>-11.9445</td>\n",
       "      <td>28.991995</td>\n",
       "      <td>23.416838</td>\n",
       "      <td>11.309789</td>\n",
       "      <td>9.277967</td>\n",
       "      <td>0.033102</td>\n",
       "      <td>0.018344</td>\n",
       "      <td>-13.704</td>\n",
       "      <td>-2.285</td>\n",
       "      <td>-14.149</td>\n",
       "      <td>-9.740</td>\n",
       "      <td>4.0445</td>\n",
       "      <td>NCATS_MDR_CS</td>\n",
       "    </tr>\n",
       "    <tr>\n",
       "      <th>466029</th>\n",
       "      <td>466256</td>\n",
       "      <td>RA-XII</td>\n",
       "      <td>TARIQUIDAR</td>\n",
       "      <td>KB-ChR-8-5-11</td>\n",
       "      <td>uM</td>\n",
       "      <td>uM</td>\n",
       "      <td>12.2270</td>\n",
       "      <td>38.511512</td>\n",
       "      <td>34.275389</td>\n",
       "      <td>24.149251</td>\n",
       "      <td>22.792590</td>\n",
       "      <td>0.005171</td>\n",
       "      <td>0.255526</td>\n",
       "      <td>-10.940</td>\n",
       "      <td>-3.031</td>\n",
       "      <td>31.219</td>\n",
       "      <td>-6.765</td>\n",
       "      <td>26.1980</td>\n",
       "      <td>NCATS_MDR_CS</td>\n",
       "    </tr>\n",
       "    <tr>\n",
       "      <th>466030</th>\n",
       "      <td>466257</td>\n",
       "      <td>vinorelbine</td>\n",
       "      <td>TARIQUIDAR</td>\n",
       "      <td>KB-ChR-8-5-11</td>\n",
       "      <td>uM</td>\n",
       "      <td>uM</td>\n",
       "      <td>12.7975</td>\n",
       "      <td>33.448102</td>\n",
       "      <td>27.891554</td>\n",
       "      <td>22.937090</td>\n",
       "      <td>18.687045</td>\n",
       "      <td>0.002872</td>\n",
       "      <td>0.304013</td>\n",
       "      <td>-6.663</td>\n",
       "      <td>-1.943</td>\n",
       "      <td>32.682</td>\n",
       "      <td>-7.087</td>\n",
       "      <td>21.4035</td>\n",
       "      <td>NCATS_MDR_CS</td>\n",
       "    </tr>\n",
       "    <tr>\n",
       "      <th>466031</th>\n",
       "      <td>466258</td>\n",
       "      <td>153381-68-1</td>\n",
       "      <td>TARIQUIDAR</td>\n",
       "      <td>KB-ChR-8-5-11</td>\n",
       "      <td>uM</td>\n",
       "      <td>uM</td>\n",
       "      <td>43.5705</td>\n",
       "      <td>46.084903</td>\n",
       "      <td>44.787428</td>\n",
       "      <td>25.947603</td>\n",
       "      <td>30.820681</td>\n",
       "      <td>0.003753</td>\n",
       "      <td>0.087976</td>\n",
       "      <td>-8.699</td>\n",
       "      <td>-8.227</td>\n",
       "      <td>30.885</td>\n",
       "      <td>56.256</td>\n",
       "      <td>60.4965</td>\n",
       "      <td>NCATS_MDR_CS</td>\n",
       "    </tr>\n",
       "    <tr>\n",
       "      <th>466032</th>\n",
       "      <td>466259</td>\n",
       "      <td>Kinome_3738</td>\n",
       "      <td>TARIQUIDAR</td>\n",
       "      <td>KB-ChR-8-5-11</td>\n",
       "      <td>uM</td>\n",
       "      <td>uM</td>\n",
       "      <td>9.2975</td>\n",
       "      <td>38.933374</td>\n",
       "      <td>37.972013</td>\n",
       "      <td>15.693398</td>\n",
       "      <td>18.700700</td>\n",
       "      <td>7.156170</td>\n",
       "      <td>0.005192</td>\n",
       "      <td>-12.628</td>\n",
       "      <td>-16.920</td>\n",
       "      <td>-12.695</td>\n",
       "      <td>31.290</td>\n",
       "      <td>38.8455</td>\n",
       "      <td>NCATS_MDR_CS</td>\n",
       "    </tr>\n",
       "  </tbody>\n",
       "</table>\n",
       "<p>27291 rows × 19 columns</p>\n",
       "</div>"
      ],
      "text/plain": [
       "        block_id     drug_row    drug_col cell_line_name conc_r_unit  \\\n",
       "4              5         5-FU     AZD1775          A2058          uM   \n",
       "6              7         5-FU     AZD1775          A2058          uM   \n",
       "24            25         5-FU   ERLOTINIB          A2058          uM   \n",
       "38            39         5-FU   LAPATINIB          A2058          uM   \n",
       "40            41         5-FU     MK-2206          A2058          uM   \n",
       "...          ...          ...         ...            ...         ...   \n",
       "466028    466255     JNK-IN-7  TARIQUIDAR  KB-ChR-8-5-11          uM   \n",
       "466029    466256       RA-XII  TARIQUIDAR  KB-ChR-8-5-11          uM   \n",
       "466030    466257  vinorelbine  TARIQUIDAR  KB-ChR-8-5-11          uM   \n",
       "466031    466258  153381-68-1  TARIQUIDAR  KB-ChR-8-5-11          uM   \n",
       "466032    466259  Kinome_3738  TARIQUIDAR  KB-ChR-8-5-11          uM   \n",
       "\n",
       "       conc_c_unit      css  synergy_zip  synergy_bliss  synergy_loewe  \\\n",
       "4               uM  66.8470    12.284698      15.765467      10.409407   \n",
       "6               uM  65.5930    14.792935      15.182467       9.826407   \n",
       "24              uM  50.6395    11.437784      15.690289      15.893848   \n",
       "38              uM  39.4540    11.006306      14.724029      13.243399   \n",
       "40              uM  51.1035    13.287630      13.554054      14.370355   \n",
       "...            ...      ...          ...            ...            ...   \n",
       "466028          uM -11.9445    28.991995      23.416838      11.309789   \n",
       "466029          uM  12.2270    38.511512      34.275389      24.149251   \n",
       "466030          uM  12.7975    33.448102      27.891554      22.937090   \n",
       "466031          uM  43.5705    46.084903      44.787428      25.947603   \n",
       "466032          uM   9.2975    38.933374      37.972013      15.693398   \n",
       "\n",
       "        synergy_hsa  ic50_row  ic50_col  ri_row  ri_col  css_row  css_col  \\\n",
       "4         18.656340  5.126836  0.266027  11.471  25.164   76.501   57.193   \n",
       "6         18.073340  5.126836  0.266027  11.471  25.164   72.965   58.221   \n",
       "24        18.451300  5.126836  5.000000  11.471   7.953   60.341   40.938   \n",
       "38        16.257410  5.126836  1.673086  11.471   3.237   36.283   42.625   \n",
       "40        17.383512  5.126836  4.000000  11.471  11.679   59.794   42.413   \n",
       "...             ...       ...       ...     ...     ...      ...      ...   \n",
       "466028     9.277967  0.033102  0.018344 -13.704  -2.285  -14.149   -9.740   \n",
       "466029    22.792590  0.005171  0.255526 -10.940  -3.031   31.219   -6.765   \n",
       "466030    18.687045  0.002872  0.304013  -6.663  -1.943   32.682   -7.087   \n",
       "466031    30.820681  0.003753  0.087976  -8.699  -8.227   30.885   56.256   \n",
       "466032    18.700700  7.156170  0.005192 -12.628 -16.920  -12.695   31.290   \n",
       "\n",
       "              S    study_name  \n",
       "4       30.2120         ONEIL  \n",
       "6       28.9580         ONEIL  \n",
       "24      31.2155         ONEIL  \n",
       "38      24.7460         ONEIL  \n",
       "40      27.9535         ONEIL  \n",
       "...         ...           ...  \n",
       "466028   4.0445  NCATS_MDR_CS  \n",
       "466029  26.1980  NCATS_MDR_CS  \n",
       "466030  21.4035  NCATS_MDR_CS  \n",
       "466031  60.4965  NCATS_MDR_CS  \n",
       "466032  38.8455  NCATS_MDR_CS  \n",
       "\n",
       "[27291 rows x 19 columns]"
      ]
     },
     "execution_count": 6,
     "metadata": {},
     "output_type": "execute_result"
    }
   ],
   "source": [
    "summ[summ['synergy_zip'] > 10]"
   ]
  },
  {
   "cell_type": "code",
   "execution_count": 10,
   "metadata": {},
   "outputs": [
    {
     "data": {
      "text/plain": [
       "Text(0.5, 1.0, 'ZIP Scores')"
      ]
     },
     "execution_count": 10,
     "metadata": {},
     "output_type": "execute_result"
    },
    {
     "data": {
      "image/png": "[encoded data removed]",
      "text/plain": [
       "<Figure size 432x288 with 1 Axes>"
      ]
     },
     "metadata": {
      "needs_background": "light"
     },
     "output_type": "display_data"
    }
   ],
   "source": [
    "sns.histplot(summ['synergy_zip'])\n",
    "plt.title('ZIP Scores')"
   ]
  },
  {
   "cell_type": "code",
   "execution_count": 8,
   "metadata": {},
   "outputs": [],
   "source": [
    "def plot(score_name):\n",
    "    score = 'synergy_%s' % score_name\n",
    "    \n",
    "    df = summ[~summ['drug_col'].isna()]\n",
    "    if score_name != 'loewe':\n",
    "        df = df[(df[score] > -50) & (df[score] < 50)]\n",
    "        \n",
    "    sns.histplot(df[score])\n",
    "    plt.title('%s Scores' % score_name.upper())"
   ]
  },
  {
   "cell_type": "code",
   "execution_count": 9,
   "metadata": {},
   "outputs": [
    {
     "data": {
      "image/png": "[encoded data removed]",
      "text/plain": [
       "<Figure size 432x288 with 1 Axes>"
      ]
     },
     "metadata": {
      "needs_background": "light"
     },
     "output_type": "display_data"
    }
   ],
   "source": [
    "plot('zip')"
   ]
  },
  {
   "cell_type": "code",
   "execution_count": 10,
   "metadata": {},
   "outputs": [
    {
     "data": {
      "image/png": "[encoded data removed]",
      "text/plain": [
       "<Figure size 432x288 with 1 Axes>"
      ]
     },
     "metadata": {
      "needs_background": "light"
     },
     "output_type": "display_data"
    }
   ],
   "source": [
    "plot('bliss')"
   ]
  },
  {
   "cell_type": "code",
   "execution_count": 11,
   "metadata": {},
   "outputs": [
    {
     "data": {
      "image/png": "[encoded data removed]",
      "text/plain": [
       "<Figure size 432x288 with 1 Axes>"
      ]
     },
     "metadata": {
      "needs_background": "light"
     },
     "output_type": "display_data"
    }
   ],
   "source": [
    "plot('loewe')"
   ]
  },
  {
   "cell_type": "code",
   "execution_count": 12,
   "metadata": {},
   "outputs": [
    {
     "data": {
      "image/png": "[encoded data removed]",
      "text/plain": [
       "<Figure size 432x288 with 1 Axes>"
      ]
     },
     "metadata": {
      "needs_background": "light"
     },
     "output_type": "display_data"
    }
   ],
   "source": [
    "plot('hsa')"
   ]
  },
  {
   "cell_type": "code",
   "execution_count": 30,
   "metadata": {},
   "outputs": [
    {
     "data": {
      "text/plain": [
       "<matplotlib.axes._subplots.AxesSubplot at 0x7fae60858e90>"
      ]
     },
     "execution_count": 30,
     "metadata": {},
     "output_type": "execute_result"
    },
    {
     "data": {
      "image/png": "[encoded data removed]",
      "text/plain": [
       "<Figure size 432x288 with 1 Axes>"
      ]
     },
     "metadata": {
      "needs_background": "light"
     },
     "output_type": "display_data"
    }
   ],
   "source": [
    "sns.histplot(summ['synergy_loewe'])"
   ]
  },
  {
   "cell_type": "code",
   "execution_count": 31,
   "metadata": {},
   "outputs": [
    {
     "data": {
      "text/plain": [
       "0          -2.951386\n",
       "1           3.125927\n",
       "2           2.452239\n",
       "3          -4.062761\n",
       "4          10.409407\n",
       "             ...    \n",
       "1175215     0.000000\n",
       "1175216     0.000000\n",
       "1175217     0.000000\n",
       "1175218     0.000000\n",
       "1175219     0.000000\n",
       "Name: synergy_loewe, Length: 1175220, dtype: float64"
      ]
     },
     "execution_count": 31,
     "metadata": {},
     "output_type": "execute_result"
    }
   ],
   "source": [
    "summ['synergy_loewe']"
   ]
  },
  {
   "cell_type": "code",
   "execution_count": null,
   "metadata": {},
   "outputs": [],
   "source": []
  }
 ],
 "metadata": {
  "kernelspec": {
   "display_name": "my-rdkit-env",
   "language": "python",
   "name": "my-rdkit-env"
  },
  "language_info": {
   "codemirror_mode": {
    "name": "ipython",
    "version": 3
   },
   "file_extension": ".py",
   "mimetype": "text/x-python",
   "name": "python",
   "nbconvert_exporter": "python",
   "pygments_lexer": "ipython3",
   "version": "3.7.9"
  }
 },
 "nbformat": 4,
 "nbformat_minor": 4
}
