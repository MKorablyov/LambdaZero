{
 "cells": [
  {
   "cell_type": "markdown",
   "metadata": {},
   "source": [
    "# Bayes Model on Fingerprints\n",
    "\n"
   ]
  },
  {
   "cell_type": "code",
   "execution_count": 1,
   "metadata": {},
   "outputs": [],
   "source": [
    "import collections\n",
    "import time\n",
    "import pdb\n",
    "import torch\n",
    "from matplotlib import pyplot as plt\n",
    "import corner\n",
    "import numpy as np\n",
    "from tqdm import tqdm\n",
    "import torch\n",
    "from sklearn import linear_model\n",
    "import sys\n",
    "sys.path.append('../')\n",
    "\n",
    "from bayes_vs import bayes_models\n",
    "from bayes_vs import chem_ops\n",
    "\n"
   ]
  },
  {
   "cell_type": "code",
   "execution_count": 2,
   "metadata": {},
   "outputs": [
    {
     "data": {
      "text/plain": [
       "dict_keys(['ground-truth', 'cheap-docking_state_dict', 'expensive-docking_state_dict', 'FEP_state_dict'])"
      ]
     },
     "execution_count": 2,
     "metadata": {},
     "output_type": "execute_result"
    }
   ],
   "source": [
    "chkpt = torch.load('../scripts/trained_oracles_13May2020.chkpt')\n",
    "chkpt.keys()"
   ]
  },
  {
   "cell_type": "code",
   "execution_count": 3,
   "metadata": {
    "scrolled": true
   },
   "outputs": [
    {
     "data": {
      "text/plain": [
       "220613"
      ]
     },
     "execution_count": 3,
     "metadata": {},
     "output_type": "execute_result"
    }
   ],
   "source": [
    "len(chkpt['ground-truth'])"
   ]
  },
  {
   "cell_type": "code",
   "execution_count": 4,
   "metadata": {},
   "outputs": [],
   "source": [
    "rng = np.random.RandomState(4184189)"
   ]
  },
  {
   "cell_type": "code",
   "execution_count": 5,
   "metadata": {},
   "outputs": [],
   "source": [
    "shuffled = rng.permutation(list(chkpt['ground-truth'].items()))\n",
    "smiles, values = zip(*shuffled)\n",
    "smiles = list(smiles)\n",
    "values = np.array(values, dtype=np.float32)"
   ]
  },
  {
   "cell_type": "code",
   "execution_count": 6,
   "metadata": {},
   "outputs": [],
   "source": [
    "test_set_size = 2500\n",
    "\n",
    "smiles_train, smiles_test = smiles[:-test_set_size], smiles[-test_set_size:]\n",
    "values_train, values_test = values[:-test_set_size], values[-test_set_size:]"
   ]
  },
  {
   "cell_type": "code",
   "execution_count": 7,
   "metadata": {},
   "outputs": [],
   "source": [
    "\n",
    "def test_on_data(smiles_train, smiles_test, y_train, y_test):\n",
    "    \n",
    "    out_rows = []\n",
    "    traing_set_size = len(smiles_train)\n",
    "    fps_train = np.stack([chem_ops.morgan_fp_from_smiles(smi) for smi in tqdm(smiles_train, desc='smiles fp train')]).astype(np.float32)\n",
    "    fps_test = np.stack([chem_ops.morgan_fp_from_smiles(smi) for smi in tqdm(smiles_test, desc='smiles fp test')]).astype(np.float32)\n",
    "    y_mean_out = y_test.mean()\n",
    "    \n",
    "    \n",
    "    bayes_embed = lambda x: x\n",
    "    bayes_embed.fp_dim = fps_train.shape[1]\n",
    "    \n",
    "    # Dummy Gaussian\n",
    "    mn = y_train.mean()\n",
    "    mse = np.mean((y_test-mn)**2)\n",
    "    ll = -0.5*np.mean(np.log(2*np.pi) + ((y_test-mn)**2))\n",
    "    exp_ss = np.mean((mn * np.ones_like(y_test) - y_mean_out)**2)\n",
    "\n",
    "    out_rows.append(['Dummy Gaussian (var=1)', traing_set_size, f'{mse:.2f}', f'{ll:.2f}', f'{exp_ss:.2f}'])\n",
    "\n",
    "\n",
    "    # Linear regression with point estimate with weights\n",
    "    lin = linear_model.LinearRegression(fit_intercept=False)\n",
    "    lin.fit(fps_train, y_train)\n",
    "    predicted_mn = lin.predict(fps_test)\n",
    "    mse = np.mean((y_test-predicted_mn)**2)\n",
    "    ll = -0.5*np.mean(np.log(2*np.pi) + ((y_test-predicted_mn)**2))\n",
    "    exp_ss = np.mean((predicted_mn - y_mean_out)**2)\n",
    "    out_rows.append(['Linear Regression/w Gaussian likelihood (var=1)', \n",
    "                     traing_set_size, f'{mse:.2f}', f'{ll:.2f}', f'{exp_ss:.2f}'])\n",
    "\n",
    "    \n",
    "    # Bayes regression\n",
    "    s_time = time.time()\n",
    "    bayes_r = bayes_models.BayesianRegression(bayes_embed, False)\n",
    "    bayes_r.fit(torch.tensor(fps_train), torch.tensor(y_train[:, None]))\n",
    "    mvn = bayes_r.predict(torch.tensor(fps_test))\n",
    "    mse = np.mean((y_test-mvn.mean.detach().numpy())**2)\n",
    "    var = torch.diag(mvn.covariance_matrix)\n",
    "    ll =  -0.5 *torch.mean((torch.log(2*np.pi*var) + (torch.tensor(y_test)-mvn.mean)**2/var) )\n",
    "    ll = ll.item()\n",
    "    exp_ss = np.mean((mvn.mean.detach().numpy() - y_mean_out)**2)\n",
    "    e_time = time.time()\n",
    "    print(f\"Bayesian regression took {e_time - s_time}s\")\n",
    "\n",
    "    #pdb.set_trace()\n",
    "    #ll = mvn.log_prob(torch.tensor(y_test)).detach().numpy().mean()\n",
    "    out_rows.append(['Bayesian Regression', traing_set_size, f'{mse:.2f}', f'{ll:.2f}', f'{exp_ss:.2f}'])\n",
    "\n",
    "    # no longer using below as have told Bayes model to set it with sklearn params so should all be the same\n",
    "#     # Sklearn regression\n",
    "#     clf = linear_model.BayesianRidge(compute_score=True, fit_intercept=False)\n",
    "#     clf.fit(fps_train, y_train)\n",
    "#     predicted_mn, predicted_std = clf.predict(fps_test,return_std=True)\n",
    "#     ll = -0.5*np.mean(np.log(2*np.pi*predicted_std**2)  + ((y_test-predicted_mn)**2/predicted_std**2))\n",
    "#     mse = np.mean((y_test-predicted_mn)**2)\n",
    "#     exp_ss = np.mean((predicted_mn - y_mean_out)**2)\n",
    "\n",
    "#     out_rows.append(['Sklearn Bayesian Ridge Regression', traing_set_size, f'{mse:.2f}',\n",
    "#                      f'{ll:.2f}', f'{exp_ss:.2f}'])\n",
    "\n",
    "#     # Bayes Regression with sklearn params\n",
    "#     bayes_r = bayes_models.BayesianRegression(bayes_embed, False)\n",
    "#     bayes_r.alpha = clf.lambda_\n",
    "#     bayes_r.beta = clf.alpha_\n",
    "#     bayes_r.fit(torch.tensor(fps_train), torch.tensor(y_train[:, None]))\n",
    "#     mvn = bayes_r.predict(torch.tensor(fps_test))\n",
    "#     mse = np.mean((y_test-mvn.mean.detach().numpy())**2)\n",
    "#     var = torch.diag(mvn.covariance_matrix)\n",
    "#     ll =  -0.5 *torch.mean(torch.log(2*np.pi*var) + (torch.tensor(y_test)-mvn.mean)**2/var )\n",
    "#     ll = ll.item()\n",
    "#     exp_ss = np.mean((mvn.mean.detach().numpy() - y_mean_out)**2)\n",
    "\n",
    "#     out_rows.append([f'Bayesian Regression with the sklearn \\n learnt precisions (weights: {bayes_r.alpha:.3f},'\n",
    "#                      f'noise:{bayes_r.beta:.3f})', traing_set_size, f'{mse:.2f}', f'{ll:.2f}', f'{exp_ss:.2f}'])\n",
    "\n",
    "    \n",
    "    \n",
    "    \n",
    "    \n",
    "    return out_rows\n",
    "    \n",
    "\n"
   ]
  },
  {
   "cell_type": "code",
   "execution_count": 8,
   "metadata": {},
   "outputs": [
    {
     "name": "stderr",
     "output_type": "stream",
     "text": [
      "smiles fp train: 100%|██████████| 10/10 [00:00<00:00, 1008.49it/s]\n",
      "smiles fp test: 100%|██████████| 2500/2500 [00:01<00:00, 2211.85it/s]\n"
     ]
    },
    {
     "name": "stdout",
     "output_type": "stream",
     "text": [
      "Convergence after  115  iterations\n",
      "Setting hyperparameters to 7.075835757613219 and 0.08797857213461628\n"
     ]
    },
    {
     "name": "stderr",
     "output_type": "stream",
     "text": [
      "smiles fp train: 100%|██████████| 20/20 [00:00<00:00, 2285.66it/s]\n",
      "smiles fp test:   8%|▊         | 210/2500 [00:00<00:01, 2095.89it/s]"
     ]
    },
    {
     "name": "stdout",
     "output_type": "stream",
     "text": [
      "Bayesian regression took 0.3963510990142822s\n"
     ]
    },
    {
     "name": "stderr",
     "output_type": "stream",
     "text": [
      "smiles fp test: 100%|██████████| 2500/2500 [00:01<00:00, 2174.55it/s]\n"
     ]
    },
    {
     "name": "stdout",
     "output_type": "stream",
     "text": [
      "Convergence after  97  iterations\n",
      "Setting hyperparameters to 1.7980716300908408 and 148.41593544948893\n"
     ]
    },
    {
     "name": "stderr",
     "output_type": "stream",
     "text": [
      "smiles fp train: 100%|██████████| 50/50 [00:00<00:00, 2222.01it/s]\n",
      "smiles fp test:   0%|          | 0/2500 [00:00<?, ?it/s]"
     ]
    },
    {
     "name": "stdout",
     "output_type": "stream",
     "text": [
      "Bayesian regression took 0.3149890899658203s\n"
     ]
    },
    {
     "name": "stderr",
     "output_type": "stream",
     "text": [
      "smiles fp test: 100%|██████████| 2500/2500 [00:01<00:00, 2203.49it/s]\n"
     ]
    },
    {
     "name": "stdout",
     "output_type": "stream",
     "text": [
      "Convergence after  140  iterations\n",
      "Setting hyperparameters to 29.880334039235812 and 0.04899125934601764\n"
     ]
    },
    {
     "name": "stderr",
     "output_type": "stream",
     "text": [
      "smiles fp train: 100%|██████████| 100/100 [00:00<00:00, 1897.09it/s]"
     ]
    },
    {
     "name": "stdout",
     "output_type": "stream",
     "text": [
      "Bayesian regression took 0.35333871841430664s\n"
     ]
    },
    {
     "name": "stderr",
     "output_type": "stream",
     "text": [
      "\n",
      "smiles fp test: 100%|██████████| 2500/2500 [00:01<00:00, 2248.34it/s]\n"
     ]
    },
    {
     "name": "stdout",
     "output_type": "stream",
     "text": [
      "Convergence after  103  iterations\n",
      "Setting hyperparameters to 3.029945644241448 and 0.149049778608405\n"
     ]
    },
    {
     "name": "stderr",
     "output_type": "stream",
     "text": [
      "smiles fp train:  40%|████      | 201/500 [00:00<00:00, 2007.95it/s]"
     ]
    },
    {
     "name": "stdout",
     "output_type": "stream",
     "text": [
      "Bayesian regression took 0.4404418468475342s\n"
     ]
    },
    {
     "name": "stderr",
     "output_type": "stream",
     "text": [
      "smiles fp train: 100%|██████████| 500/500 [00:00<00:00, 2016.50it/s]\n",
      "smiles fp test: 100%|██████████| 2500/2500 [00:01<00:00, 2153.07it/s]\n"
     ]
    },
    {
     "name": "stdout",
     "output_type": "stream",
     "text": [
      "Convergence after  23  iterations\n",
      "Setting hyperparameters to 3.198941894036357 and 0.14902637554876008\n"
     ]
    },
    {
     "name": "stderr",
     "output_type": "stream",
     "text": [
      "smiles fp train:  20%|██        | 202/1000 [00:00<00:00, 2017.32it/s]"
     ]
    },
    {
     "name": "stdout",
     "output_type": "stream",
     "text": [
      "Bayesian regression took 0.9387872219085693s\n"
     ]
    },
    {
     "name": "stderr",
     "output_type": "stream",
     "text": [
      "smiles fp train: 100%|██████████| 1000/1000 [00:00<00:00, 2113.95it/s]\n",
      "smiles fp test: 100%|██████████| 2500/2500 [00:01<00:00, 2232.89it/s]\n"
     ]
    },
    {
     "name": "stdout",
     "output_type": "stream",
     "text": [
      "Convergence after  17  iterations\n",
      "Setting hyperparameters to 3.8295233579066705 and 0.13219480717203158\n"
     ]
    },
    {
     "name": "stderr",
     "output_type": "stream",
     "text": [
      "smiles fp train:   8%|▊         | 201/2500 [00:00<00:01, 2005.84it/s]"
     ]
    },
    {
     "name": "stdout",
     "output_type": "stream",
     "text": [
      "Bayesian regression took 3.0288782119750977s\n"
     ]
    },
    {
     "name": "stderr",
     "output_type": "stream",
     "text": [
      "smiles fp train: 100%|██████████| 2500/2500 [00:01<00:00, 2246.28it/s]\n",
      "smiles fp test: 100%|██████████| 2500/2500 [00:01<00:00, 2273.21it/s]\n"
     ]
    },
    {
     "name": "stdout",
     "output_type": "stream",
     "text": [
      "Convergence after  13  iterations\n",
      "Setting hyperparameters to 4.681162904815806 and 0.11545261729004037\n"
     ]
    },
    {
     "name": "stderr",
     "output_type": "stream",
     "text": [
      "smiles fp train:   4%|▍         | 191/5000 [00:00<00:02, 1909.06it/s]"
     ]
    },
    {
     "name": "stdout",
     "output_type": "stream",
     "text": [
      "Bayesian regression took 2.092288017272949s\n"
     ]
    },
    {
     "name": "stderr",
     "output_type": "stream",
     "text": [
      "smiles fp train: 100%|██████████| 5000/5000 [00:02<00:00, 2174.58it/s]\n",
      "smiles fp test: 100%|██████████| 2500/2500 [00:01<00:00, 1848.83it/s]\n"
     ]
    },
    {
     "name": "stdout",
     "output_type": "stream",
     "text": [
      "Convergence after  10  iterations\n",
      "Setting hyperparameters to 5.728517541198217 and 0.11097330726938862\n"
     ]
    },
    {
     "name": "stderr",
     "output_type": "stream",
     "text": [
      "smiles fp train:   3%|▎         | 212/7500 [00:00<00:03, 2113.89it/s]"
     ]
    },
    {
     "name": "stdout",
     "output_type": "stream",
     "text": [
      "Bayesian regression took 2.470202922821045s\n"
     ]
    },
    {
     "name": "stderr",
     "output_type": "stream",
     "text": [
      "smiles fp train: 100%|██████████| 7500/7500 [00:03<00:00, 2232.03it/s]\n",
      "smiles fp test: 100%|██████████| 2500/2500 [00:01<00:00, 2147.40it/s]\n"
     ]
    },
    {
     "name": "stdout",
     "output_type": "stream",
     "text": [
      "Convergence after  9  iterations\n",
      "Setting hyperparameters to 6.047769846611154 and 0.11075563691268203\n"
     ]
    },
    {
     "name": "stderr",
     "output_type": "stream",
     "text": [
      "smiles fp train:   2%|▏         | 193/10000 [00:00<00:05, 1922.27it/s]"
     ]
    },
    {
     "name": "stdout",
     "output_type": "stream",
     "text": [
      "Bayesian regression took 3.0296828746795654s\n"
     ]
    },
    {
     "name": "stderr",
     "output_type": "stream",
     "text": [
      "smiles fp train: 100%|██████████| 10000/10000 [00:04<00:00, 2254.48it/s]\n",
      "smiles fp test: 100%|██████████| 2500/2500 [00:01<00:00, 2182.53it/s]\n"
     ]
    },
    {
     "name": "stdout",
     "output_type": "stream",
     "text": [
      "Convergence after  8  iterations\n",
      "Setting hyperparameters to 6.215214574990658 and 0.11169962417862576\n",
      "Bayesian regression took 3.4373080730438232s\n"
     ]
    }
   ],
   "source": [
    "out = []\n",
    "for train_size in [10, 20, 50, 100, 500, 1000, 2500, 5000, 7500, 10000]:\n",
    "    out.extend(test_on_data(smiles_train[:train_size], smiles_test, values_train[:train_size], values_test))\n",
    "    out.append([\"\"] * len(out[-1]))\n",
    "    out.append([\"\"] * len(out[-1]))\n",
    "    out.append([\"\"] * len(out[-1]))\n",
    "    out.append([\"---\"] * len(out[-1]))"
   ]
  },
  {
   "cell_type": "code",
   "execution_count": 9,
   "metadata": {},
   "outputs": [],
   "source": [
    "import tabulate"
   ]
  },
  {
   "cell_type": "code",
   "execution_count": 10,
   "metadata": {},
   "outputs": [
    {
     "name": "stdout",
     "output_type": "stream",
     "text": [
      "Name                                             Train set size    MSE (↓)    Avg LL (↑)    Avg Explained SS\n",
      "-----------------------------------------------  ----------------  ---------  ------------  ------------------\n",
      "Dummy Gaussian (var=1)                           10                23.69      -12.77        3.68\n",
      "Linear Regression/w Gaussian likelihood (var=1)  10                21.74      -11.79        2.02\n",
      "Bayesian Regression                              10                20.83      -2.95         0.85\n",
      "\n",
      "\n",
      "\n",
      "---                                              ---               ---        ---           ---\n",
      "Dummy Gaussian (var=1)                           20                21.05      -11.44        1.03\n",
      "Linear Regression/w Gaussian likelihood (var=1)  20                19.98      -10.91        2.19\n",
      "Bayesian Regression                              20                19.98      -2.92         2.19\n",
      "\n",
      "\n",
      "\n",
      "---                                              ---               ---        ---           ---\n",
      "Dummy Gaussian (var=1)                           50                20.57      -11.20        0.55\n",
      "Linear Regression/w Gaussian likelihood (var=1)  50                17.40      -9.62         3.23\n",
      "Bayesian Regression                              50                19.79      -2.91         0.18\n",
      "\n",
      "\n",
      "\n",
      "---                                              ---               ---        ---           ---\n",
      "Dummy Gaussian (var=1)                           100               20.19      -11.01        0.17\n",
      "Linear Regression/w Gaussian likelihood (var=1)  100               16.35      -9.09         5.01\n",
      "Bayesian Regression                              100               16.19      -2.81         2.14\n",
      "\n",
      "\n",
      "\n",
      "---                                              ---               ---        ---           ---\n",
      "Dummy Gaussian (var=1)                           500               20.07      -10.95        0.05\n",
      "Linear Regression/w Gaussian likelihood (var=1)  500               20.49      -11.16        20.50\n",
      "Bayesian Regression                              500               12.72      -2.69         7.34\n",
      "\n",
      "\n",
      "\n",
      "---                                              ---               ---        ---           ---\n",
      "Dummy Gaussian (var=1)                           1000              20.10      -10.97        0.08\n",
      "Linear Regression/w Gaussian likelihood (var=1)  1000              378.90     -190.37       386.41\n",
      "Bayesian Regression                              1000              11.70      -2.65         8.64\n",
      "\n",
      "\n",
      "\n",
      "---                                              ---               ---        ---           ---\n",
      "Dummy Gaussian (var=1)                           2500              20.06      -10.95        0.04\n",
      "Linear Regression/w Gaussian likelihood (var=1)  2500              15.88      -8.86         17.30\n",
      "Bayesian Regression                              2500              10.92      -2.61         9.49\n",
      "\n",
      "\n",
      "\n",
      "---                                              ---               ---        ---           ---\n",
      "Dummy Gaussian (var=1)                           5000              20.02      -10.93        0.00\n",
      "Linear Regression/w Gaussian likelihood (var=1)  5000              11.83      -6.83         13.41\n",
      "Bayesian Regression                              5000              10.38      -2.59         10.12\n",
      "\n",
      "\n",
      "\n",
      "---                                              ---               ---        ---           ---\n",
      "Dummy Gaussian (var=1)                           7500              20.03      -10.93        0.01\n",
      "Linear Regression/w Gaussian likelihood (var=1)  7500              10.87      -6.36         12.73\n",
      "Bayesian Regression                              7500              10.15      -2.58         10.51\n",
      "\n",
      "\n",
      "\n",
      "---                                              ---               ---        ---           ---\n",
      "Dummy Gaussian (var=1)                           10000             20.03      -10.93        0.01\n",
      "Linear Regression/w Gaussian likelihood (var=1)  10000             10.51      -6.18         12.32\n",
      "Bayesian Regression                              10000             10.03      -2.57         10.68\n",
      "\n",
      "\n",
      "\n",
      "---                                              ---               ---        ---           ---\n"
     ]
    }
   ],
   "source": [
    "print(tabulate.tabulate(out, headers=['Name', \"Train set size\", \"MSE (↓)\", \"Avg LL (↑)\", \"Avg Explained SS\"]))"
   ]
  },
  {
   "cell_type": "code",
   "execution_count": 12,
   "metadata": {},
   "outputs": [
    {
     "name": "stderr",
     "output_type": "stream",
     "text": [
      "smiles fp train: 100%|██████████| 50000/50000 [00:23<00:00, 2116.52it/s]\n",
      "smiles fp test: 100%|██████████| 2500/2500 [00:01<00:00, 2274.59it/s]\n"
     ]
    },
    {
     "name": "stdout",
     "output_type": "stream",
     "text": [
      "Convergence after  5  iterations\n",
      "Setting hyperparameters to 7.129981199467363 and 0.1143105138674678\n",
      "Bayesian regression took 18.59956407546997s\n"
     ]
    }
   ],
   "source": [
    "out.extend(test_on_data(smiles_train[:50000], smiles_test, values_train[:50000], values_test))"
   ]
  },
  {
   "cell_type": "code",
   "execution_count": null,
   "metadata": {},
   "outputs": [],
   "source": []
  }
 ],
 "metadata": {
  "kernelspec": {
   "display_name": "Python 3",
   "language": "python",
   "name": "python3"
  },
  "language_info": {
   "codemirror_mode": {
    "name": "ipython",
    "version": 3
   },
   "file_extension": ".py",
   "mimetype": "text/x-python",
   "name": "python",
   "nbconvert_exporter": "python",
   "pygments_lexer": "ipython3",
   "version": "3.7.7"
  }
 },
 "nbformat": 4,
 "nbformat_minor": 4
}
